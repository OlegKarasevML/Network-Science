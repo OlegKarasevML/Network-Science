{
 "cells": [
  {
   "cell_type": "markdown",
   "id": "2e223f89",
   "metadata": {},
   "source": [
    "# Assignment — Power Law"
   ]
  },
  {
   "cell_type": "code",
   "execution_count": 1,
   "id": "55bb28cf",
   "metadata": {
    "ExecuteTime": {
     "end_time": "2022-01-28T17:31:53.449538Z",
     "start_time": "2022-01-28T17:31:52.315680Z"
    }
   },
   "outputs": [],
   "source": [
    "from typing import List\n",
    "from zlib import adler32\n",
    "import networkx as nx\n",
    "import requests\n",
    "import matplotlib.pyplot as plt\n",
    "import pandas as pd\n",
    "import numpy as np"
   ]
  },
  {
   "cell_type": "markdown",
   "id": "d1ed2952",
   "metadata": {},
   "source": [
    "### Task 1. Power law CDF (1 points)"
   ]
  },
  {
   "cell_type": "markdown",
   "id": "e81bd77f",
   "metadata": {},
   "source": [
    "Scale-free network has a Power law degree distribution. Let us take a closer look at this distribution. The PDF of the Power law is \n",
    "\n",
    "$$ p(x) = Cx^{-\\alpha},$$ \n",
    "\n",
    "where $C$ is a normalization constant \n",
    "\n",
    "$$C = \\frac{\\alpha - 1}{x_{\\text{min}}^{-\\alpha + 1}}$$ \n",
    "\n",
    "and $\\alpha>1$ is called an exponent of the distribution. "
   ]
  },
  {
   "cell_type": "code",
   "execution_count": 45,
   "id": "ac290039",
   "metadata": {
    "ExecuteTime": {
     "end_time": "2022-01-28T17:33:09.569075Z",
     "start_time": "2022-01-28T17:33:09.563605Z"
    }
   },
   "outputs": [],
   "source": [
    "def power_law_pdf(x, alpha=3.5, x_min=1):\n",
    "    C = (alpha - 1) / x_min ** (1 - alpha)\n",
    "    return C * x ** (-alpha)"
   ]
  },
  {
   "cell_type": "code",
   "execution_count": 3,
   "id": "d2b3300c",
   "metadata": {
    "ExecuteTime": {
     "end_time": "2022-01-28T17:33:12.749814Z",
     "start_time": "2022-01-28T17:33:12.618422Z"
    }
   },
   "outputs": [
    {
     "data": {
      "image/png": "[encoded data removed]",
      "text/plain": [
       "<Figure size 432x288 with 1 Axes>"
      ]
     },
     "metadata": {
      "needs_background": "light"
     },
     "output_type": "display_data"
    }
   ],
   "source": [
    "x_space = np.linspace(1, 10, 100)\n",
    "plt.plot(x_space, power_law_pdf(x_space))\n",
    "plt.title('Power Law PDF');"
   ]
  },
  {
   "cell_type": "markdown",
   "id": "397028f6",
   "metadata": {},
   "source": [
    "Let us generate observations from a Power Law RV. The first step is to derive CDF of Powel law: $F(x) = P(X \\leq x)$\n",
    "\n",
    "$$F(x) = 1 - \\int_{x}^\\infty p(t) dt.$$\n",
    "\n",
    "Take the integral, derive CDF analytically and then write a function `power_law_cdf` with parameters `x`, `alpha` and `x_min`."
   ]
  },
  {
   "cell_type": "code",
   "execution_count": 4,
   "id": "c05be41c",
   "metadata": {
    "ExecuteTime": {
     "end_time": "2022-01-28T17:41:20.009034Z",
     "start_time": "2022-01-28T17:41:20.005380Z"
    },
    "deletable": false,
    "nbgrader": {
     "cell_type": "code",
     "checksum": "dfa3158ba5ebe1454116372e3a44aec9",
     "grade": false,
     "grade_id": "cell-f682e125051975d6",
     "locked": false,
     "schema_version": 3,
     "solution": true,
     "task": false
    }
   },
   "outputs": [],
   "source": [
    "def power_law_cdf(x, alpha=3.5, x_min=1):\n",
    "    return 1 - (x / x_min) ** (-alpha + 1)"
   ]
  },
  {
   "cell_type": "code",
   "execution_count": 5,
   "id": "2877156d",
   "metadata": {
    "ExecuteTime": {
     "end_time": "2022-01-28T17:41:20.446032Z",
     "start_time": "2022-01-28T17:41:20.439163Z"
    },
    "deletable": false,
    "editable": false,
    "nbgrader": {
     "cell_type": "code",
     "checksum": "100d7a9557527135f54f17f67b3f82fa",
     "grade": true,
     "grade_id": "cell-87d0428f480773c4",
     "locked": true,
     "points": 1,
     "schema_version": 3,
     "solution": false,
     "task": false
    }
   },
   "outputs": [],
   "source": [
    "assert power_law_cdf(2, 2, 1) == 0.5\n",
    "assert power_law_cdf(10, 2, 1) == 0.9\n",
    "assert adler32(str(power_law_cdf(2, 3, 1)).encode()) == 32571595"
   ]
  },
  {
   "cell_type": "code",
   "execution_count": 6,
   "id": "f6047e49",
   "metadata": {
    "ExecuteTime": {
     "end_time": "2022-01-28T17:41:21.313368Z",
     "start_time": "2022-01-28T17:41:21.202625Z"
    }
   },
   "outputs": [
    {
     "data": {
      "image/png": "[encoded data removed]",
      "text/plain": [
       "<Figure size 432x288 with 1 Axes>"
      ]
     },
     "metadata": {
      "needs_background": "light"
     },
     "output_type": "display_data"
    }
   ],
   "source": [
    "x_space = np.linspace(1, 10, 100)\n",
    "plt.plot(x_space, power_law_cdf(x_space))\n",
    "plt.title('Power Law CDF');"
   ]
  },
  {
   "cell_type": "markdown",
   "id": "d1705532",
   "metadata": {},
   "source": [
    "### Task 2. Power law PPF (1 points)"
   ]
  },
  {
   "cell_type": "markdown",
   "id": "de9e3713",
   "metadata": {},
   "source": [
    "Let $X \\sim \\text{Power law}$. Next, define a random variable $R$, s.t. $R = F(X)$, so $R$ will be uniformly distributed on interval [0, 1] ([proof](https://en.wikipedia.org/wiki/Probability_integral_transform#Proof)). Good thing here is that we easily can generate uniformly distributed pseudorandom numbers and then transform them into Power Law. Let us find an expression for $x = F^{-1}(r)$, where $r$ is an observation from uniform distrubution on interval [0, 1]. \n",
    "\n",
    "Find an analytical form of $F^{-1}(r)$ and write a function `power_law_ppf` (percent point function, also known as a quantile) with parameters `r`, `alpha` and `x_min`. "
   ]
  },
  {
   "cell_type": "code",
   "execution_count": 7,
   "id": "8e93abab",
   "metadata": {
    "ExecuteTime": {
     "end_time": "2022-01-28T17:55:27.505057Z",
     "start_time": "2022-01-28T17:55:27.499925Z"
    },
    "deletable": false,
    "nbgrader": {
     "cell_type": "code",
     "checksum": "be67ee873cb3bf60c2e62921b187b228",
     "grade": false,
     "grade_id": "cell-63a819b2bc8441f1",
     "locked": false,
     "schema_version": 3,
     "solution": true,
     "task": false
    }
   },
   "outputs": [],
   "source": [
    "def power_law_ppf(r, alpha=3.5, x_min=1):\n",
    "    return x_min * (1- r)**(1 / (-alpha + 1))"
   ]
  },
  {
   "cell_type": "code",
   "execution_count": 8,
   "id": "d5f5fc58",
   "metadata": {
    "ExecuteTime": {
     "end_time": "2022-01-28T17:55:27.702550Z",
     "start_time": "2022-01-28T17:55:27.694392Z"
    },
    "deletable": false,
    "editable": false,
    "nbgrader": {
     "cell_type": "code",
     "checksum": "b32d610b69907fe3c30a3f098fe01b2c",
     "grade": true,
     "grade_id": "cell-0b447767612a3798",
     "locked": true,
     "points": 1,
     "schema_version": 3,
     "solution": false,
     "task": false
    }
   },
   "outputs": [],
   "source": [
    "assert round(power_law_ppf(0.5, 2, 1), 2) == 2\n",
    "assert round(power_law_ppf(0.9, 2, 1), 2) == 10\n",
    "assert adler32(str(round(power_law_ppf(0.96, 3, 1), 2)).encode()) == 19792020"
   ]
  },
  {
   "cell_type": "code",
   "execution_count": 9,
   "id": "de28f351",
   "metadata": {
    "ExecuteTime": {
     "end_time": "2022-01-28T17:55:28.675706Z",
     "start_time": "2022-01-28T17:55:28.562551Z"
    }
   },
   "outputs": [
    {
     "data": {
      "image/png": "[encoded data removed]",
      "text/plain": [
       "<Figure size 432x288 with 1 Axes>"
      ]
     },
     "metadata": {
      "needs_background": "light"
     },
     "output_type": "display_data"
    }
   ],
   "source": [
    "x_space = np.linspace(0, 0.999, 100)\n",
    "plt.plot(x_space, power_law_ppf(x_space))\n",
    "plt.title('Power Law PPF');"
   ]
  },
  {
   "cell_type": "markdown",
   "id": "4f0ff961",
   "metadata": {},
   "source": [
    "Finally, we can generate observation from Power law distribution as follows:\n",
    "1. Generate observation from uniform distribution on interval [0, 1]\n",
    "2. Calculate PPF value of given observation"
   ]
  },
  {
   "cell_type": "code",
   "execution_count": 10,
   "id": "13f54551",
   "metadata": {
    "ExecuteTime": {
     "end_time": "2022-01-28T17:55:41.244356Z",
     "start_time": "2022-01-28T17:55:41.239592Z"
    }
   },
   "outputs": [],
   "source": [
    "def power_law_generate(n, alpha=3.5, x_min=1, random_seed=1):\n",
    "    np.random.seed(random_seed)\n",
    "    uni_sample = np.random.uniform(0, 0.999, n)\n",
    "    return power_law_ppf(uni_sample, alpha, x_min)"
   ]
  },
  {
   "cell_type": "markdown",
   "id": "f8a6ee03",
   "metadata": {},
   "source": [
    "Look at the histogram of the generated sample"
   ]
  },
  {
   "cell_type": "code",
   "execution_count": 11,
   "id": "428cbab7",
   "metadata": {
    "ExecuteTime": {
     "end_time": "2022-01-28T17:56:00.142730Z",
     "start_time": "2022-01-28T17:56:00.133377Z"
    }
   },
   "outputs": [],
   "source": [
    "alpha = 3.5\n",
    "x_min = 1\n",
    "x_train = power_law_generate(1000, alpha, x_min)\n",
    "x_space = np.linspace(1, 15, 100)"
   ]
  },
  {
   "cell_type": "code",
   "execution_count": 12,
   "id": "9ebe8680",
   "metadata": {
    "ExecuteTime": {
     "end_time": "2022-01-28T17:56:01.032368Z",
     "start_time": "2022-01-28T17:56:00.897060Z"
    }
   },
   "outputs": [
    {
     "data": {
      "image/png": "[encoded data removed]",
      "text/plain": [
       "<Figure size 432x288 with 1 Axes>"
      ]
     },
     "metadata": {
      "needs_background": "light"
     },
     "output_type": "display_data"
    }
   ],
   "source": [
    "hist, bin_edges = np.histogram(x_train, bins=200, density=True)\n",
    "bin_centers = (bin_edges[1:] + bin_edges[:-1]) / 2\n",
    "plt.scatter(bin_centers[hist > 0], hist[hist > 0], s=10)\n",
    "plt.plot(x_space, power_law_pdf(x_space, alpha, x_min), \n",
    "         label='Theoretical PDF', c='tab:orange')\n",
    "plt.legend()\n",
    "plt.xlim(1, 10)\n",
    "plt.show()"
   ]
  },
  {
   "cell_type": "markdown",
   "id": "cc48e216",
   "metadata": {},
   "source": [
    "And here is the same histogram in log-log scale"
   ]
  },
  {
   "cell_type": "code",
   "execution_count": 13,
   "id": "baa771e0",
   "metadata": {
    "ExecuteTime": {
     "end_time": "2022-01-28T17:56:35.769136Z",
     "start_time": "2022-01-28T17:56:35.298584Z"
    }
   },
   "outputs": [
    {
     "data": {
      "image/png": "[encoded data removed]",
      "text/plain": [
       "<Figure size 432x288 with 1 Axes>"
      ]
     },
     "metadata": {
      "needs_background": "light"
     },
     "output_type": "display_data"
    }
   ],
   "source": [
    "hist, bin_edges = np.histogram(x_train, bins=200, density=True)\n",
    "bin_centers = (bin_edges[1:] + bin_edges[:-1]) / 2\n",
    "plt.scatter(bin_centers, hist, s=10)\n",
    "plt.plot(x_space, power_law_pdf(x_space, alpha, x_min), \n",
    "         label='Theoretical PDF', c='tab:orange')\n",
    "plt.legend()\n",
    "plt.xscale('log')\n",
    "plt.yscale('log')\n",
    "plt.xlim(1, 10)\n",
    "plt.show()"
   ]
  },
  {
   "cell_type": "markdown",
   "id": "393e13dd",
   "metadata": {},
   "source": [
    "### Task 3. Estimation of alpha with linear binning (2 points)"
   ]
  },
  {
   "cell_type": "markdown",
   "id": "d11826f5",
   "metadata": {},
   "source": [
    "Given observations from the Power Law distribution, try to estimate $\\alpha$. The easiest way is to draw an empirical PDF with linear binning in log-log scale and apply linear regression. By _linear binning_ we mean to keep a bin width is fixed.\n",
    "\n",
    "Write a function `alpha_lin_bins` that takes a train set, number of linear bins and returns an estimated $\\alpha$.\n",
    "\n",
    "_Hints:_\n",
    "* _Take log in both side of $p(x) = Cx^{-\\alpha}$_\n",
    "* _To calculate an empirical PDF, use `np.histogram(x_train, bins=bins, density=True)`_\n",
    "* _To calculate pseudoinverse matrix, use `np.linalg.pinv`_\n",
    "* _Also you can use fit-predict in `sklearn.linear.LinearRegression`_"
   ]
  },
  {
   "cell_type": "code",
   "execution_count": 14,
   "id": "limiting-shannon",
   "metadata": {
    "ExecuteTime": {
     "end_time": "2022-01-28T18:46:55.468705Z",
     "start_time": "2022-01-28T18:46:55.461124Z"
    }
   },
   "outputs": [
    {
     "data": {
      "text/plain": [
       "(array([1., 1., 1., 1.]), array([0.  , 0.25, 0.5 , 0.75, 1.  ]))"
      ]
     },
     "execution_count": 14,
     "metadata": {},
     "output_type": "execute_result"
    }
   ],
   "source": [
    "np.histogram(np.linspace(0, 1, 40), bins=4, density=True)"
   ]
  },
  {
   "cell_type": "code",
   "execution_count": 15,
   "id": "a71c706c",
   "metadata": {
    "ExecuteTime": {
     "end_time": "2022-01-28T18:49:57.556688Z",
     "start_time": "2022-01-28T18:49:57.547418Z"
    },
    "deletable": false,
    "nbgrader": {
     "cell_type": "code",
     "checksum": "98c4c6ef2ed0c2d94c440d3e8e932b7e",
     "grade": false,
     "grade_id": "cell-c57a5c7c5834b80e",
     "locked": false,
     "schema_version": 3,
     "solution": true,
     "task": false
    }
   },
   "outputs": [],
   "source": [
    "def alpha_lin_bins(x_train, bins):\n",
    "    eps = 1e-7\n",
    "    hst, bin_edges = np.histogram(x_train, bins=bins, density=True)\n",
    "    w = bin_edges[1] - bin_edges[0]\n",
    "    x = bin_edges[:-1] + w\n",
    "    x = np.log(x)\n",
    "    x = np.stack([x, np.ones(x.shape[0])], axis=1)\n",
    "    y = hst\n",
    "    \n",
    "    mask = y > eps\n",
    "    x = x[mask]\n",
    "    y = y[mask]\n",
    "    y = np.log(y)\n",
    "    \n",
    "    ap = np.linalg.pinv(x)\n",
    "    return - (ap @ y)[0]"
   ]
  },
  {
   "cell_type": "code",
   "execution_count": 16,
   "id": "0ce10fac",
   "metadata": {
    "ExecuteTime": {
     "end_time": "2022-01-28T18:50:05.257635Z",
     "start_time": "2022-01-28T18:50:05.244893Z"
    },
    "deletable": false,
    "editable": false,
    "nbgrader": {
     "cell_type": "code",
     "checksum": "a19a9fcb480e083446fbee519d1dd98b",
     "grade": true,
     "grade_id": "cell-b9cf21aabb190bd7",
     "locked": true,
     "points": 2,
     "schema_version": 3,
     "solution": false,
     "task": false
    }
   },
   "outputs": [],
   "source": [
    "bins = 100\n",
    "x_train = power_law_generate(1000, x_min=1, alpha=2)\n",
    "assert np.abs(alpha_lin_bins(x_train, bins) - 2) < 0.7\n",
    "x_train = power_law_generate(1000, x_min=1, alpha=3.5)\n",
    "assert np.abs(alpha_lin_bins(x_train, bins) - 3.5) < 0.9\n",
    "x_train = power_law_generate(1000, x_min=1, alpha=10)\n",
    "assert np.abs(alpha_lin_bins(x_train, bins) - 10) < 2"
   ]
  },
  {
   "cell_type": "code",
   "execution_count": 17,
   "id": "b6287095",
   "metadata": {
    "ExecuteTime": {
     "end_time": "2022-01-28T18:50:06.646911Z",
     "start_time": "2022-01-28T18:50:06.346318Z"
    }
   },
   "outputs": [
    {
     "data": {
      "image/png": "[encoded data removed]",
      "text/plain": [
       "<Figure size 432x288 with 1 Axes>"
      ]
     },
     "metadata": {
      "needs_background": "light"
     },
     "output_type": "display_data"
    }
   ],
   "source": [
    "x_min = 1\n",
    "alpha = 3.5\n",
    "bins = 100\n",
    "\n",
    "x_train = power_law_generate(1000, alpha, x_min)\n",
    "hist, bin_edges = np.histogram(x_train, bins=bins, density=True)\n",
    "bin_centers = (bin_edges[1:] + bin_edges[:-1]) / 2\n",
    "plt.scatter(bin_centers, hist, s=10)\n",
    "\n",
    "hat_alpha = alpha_lin_bins(x_train, bins)\n",
    "x_space = np.linspace(x_min, x_train.max(), 100)\n",
    "plt.plot(x_space, power_law_pdf(x_space, hat_alpha, x_min), \n",
    "         label='Estimated PDF', c='tab:orange')\n",
    "plt.legend()\n",
    "plt.title('Truth alpha = {:.2f}, estimated alpha = {:.2f}'.format(alpha, hat_alpha))\n",
    "plt.xscale('log')\n",
    "plt.yscale('log')\n",
    "plt.show()"
   ]
  },
  {
   "cell_type": "markdown",
   "id": "f7186825",
   "metadata": {},
   "source": [
    "### Task 4. Generation graphs with a given degree distribution (2 points)"
   ]
  },
  {
   "cell_type": "markdown",
   "id": "b442e632",
   "metadata": {},
   "source": [
    "In this task, we will try to guess a graph by its degree distribution.\n",
    "\n",
    "__Graph A__ is described by the histogram `[0, 2, 10]` — 0 nodes with degree 0, 2 nodes with degree 1, 10 nodes with degree 2."
   ]
  },
  {
   "cell_type": "code",
   "execution_count": 18,
   "id": "67fdb84f",
   "metadata": {
    "ExecuteTime": {
     "end_time": "2022-01-28T18:53:53.074271Z",
     "start_time": "2022-01-28T18:53:52.963067Z"
    }
   },
   "outputs": [
    {
     "data": {
      "image/png": "[encoded data removed]",
      "text/plain": [
       "<Figure size 432x288 with 1 Axes>"
      ]
     },
     "metadata": {
      "needs_background": "light"
     },
     "output_type": "display_data"
    }
   ],
   "source": [
    "dens_a = [0, 2, 10]\n",
    "plt.bar(range(len(dens_a)), dens_a);"
   ]
  },
  {
   "cell_type": "code",
   "execution_count": 19,
   "id": "cfc43463",
   "metadata": {
    "ExecuteTime": {
     "end_time": "2022-01-28T18:55:21.511683Z",
     "start_time": "2022-01-28T18:55:21.508426Z"
    },
    "deletable": false,
    "nbgrader": {
     "cell_type": "code",
     "checksum": "7726ebdf8814362b9595c84fe0221e09",
     "grade": false,
     "grade_id": "cell-4308485bfb1bf30e",
     "locked": false,
     "schema_version": 3,
     "solution": true,
     "task": false
    }
   },
   "outputs": [],
   "source": [
    "def generate_graph_a() -> nx.Graph:\n",
    "    return nx.path_graph(12)"
   ]
  },
  {
   "cell_type": "code",
   "execution_count": 20,
   "id": "97e1cb1e",
   "metadata": {
    "ExecuteTime": {
     "end_time": "2022-01-28T18:55:22.122047Z",
     "start_time": "2022-01-28T18:55:22.005848Z"
    },
    "deletable": false,
    "editable": false,
    "nbgrader": {
     "cell_type": "code",
     "checksum": "1f824c1a20c44b478ac30ce41ad43f35",
     "grade": true,
     "grade_id": "cell-226da2d721eaace4",
     "locked": true,
     "points": 0.5,
     "schema_version": 3,
     "solution": false,
     "task": false
    }
   },
   "outputs": [
    {
     "data": {
      "image/png": "[encoded data removed]",
      "text/plain": [
       "<Figure size 432x288 with 1 Axes>"
      ]
     },
     "metadata": {},
     "output_type": "display_data"
    }
   ],
   "source": [
    "G = generate_graph_a()\n",
    "assert nx.degree_histogram(G) == dens_a\n",
    "assert nx.is_connected(G)\n",
    "nx.draw_networkx(G)"
   ]
  },
  {
   "cell_type": "markdown",
   "id": "d8e012b6",
   "metadata": {},
   "source": [
    "__Graph B__"
   ]
  },
  {
   "cell_type": "code",
   "execution_count": 21,
   "id": "0547ce55",
   "metadata": {
    "ExecuteTime": {
     "end_time": "2022-01-28T18:55:26.847054Z",
     "start_time": "2022-01-28T18:55:26.737745Z"
    }
   },
   "outputs": [
    {
     "data": {
      "image/png": "[encoded data removed]",
      "text/plain": [
       "<Figure size 432x288 with 1 Axes>"
      ]
     },
     "metadata": {
      "needs_background": "light"
     },
     "output_type": "display_data"
    }
   ],
   "source": [
    "dens_b = [0, 0, 10]\n",
    "plt.bar(range(len(dens_b)), dens_b);"
   ]
  },
  {
   "cell_type": "code",
   "execution_count": 22,
   "id": "8c096c21",
   "metadata": {
    "ExecuteTime": {
     "end_time": "2022-01-28T18:57:10.821354Z",
     "start_time": "2022-01-28T18:57:10.817413Z"
    },
    "deletable": false,
    "nbgrader": {
     "cell_type": "code",
     "checksum": "41e7af615198bd34567381ea1b34f56c",
     "grade": false,
     "grade_id": "cell-55d7cfacd5c8d553",
     "locked": false,
     "schema_version": 3,
     "solution": true,
     "task": false
    }
   },
   "outputs": [],
   "source": [
    "def generate_graph_b() -> nx.Graph:\n",
    "    g = nx.path_graph(10)\n",
    "    g.add_edge(0, 9)\n",
    "    return g"
   ]
  },
  {
   "cell_type": "code",
   "execution_count": 23,
   "id": "d0e7e12f",
   "metadata": {
    "ExecuteTime": {
     "end_time": "2022-01-28T18:57:11.079818Z",
     "start_time": "2022-01-28T18:57:10.980401Z"
    },
    "deletable": false,
    "editable": false,
    "nbgrader": {
     "cell_type": "code",
     "checksum": "04074a13ca0dda242e4a7df044440fd7",
     "grade": true,
     "grade_id": "cell-11bb8205ad27326a",
     "locked": true,
     "points": 0.5,
     "schema_version": 3,
     "solution": false,
     "task": false
    }
   },
   "outputs": [
    {
     "data": {
      "image/png": "[encoded data removed]",
      "text/plain": [
       "<Figure size 432x288 with 1 Axes>"
      ]
     },
     "metadata": {},
     "output_type": "display_data"
    }
   ],
   "source": [
    "G = generate_graph_b()\n",
    "assert nx.degree_histogram(G) == dens_b\n",
    "assert nx.is_connected(G)\n",
    "nx.draw_networkx(G)"
   ]
  },
  {
   "cell_type": "markdown",
   "id": "01b95eeb",
   "metadata": {},
   "source": [
    "__Graph C__"
   ]
  },
  {
   "cell_type": "code",
   "execution_count": 24,
   "id": "d39fbc7f",
   "metadata": {
    "ExecuteTime": {
     "end_time": "2022-01-28T18:57:15.083946Z",
     "start_time": "2022-01-28T18:57:14.976927Z"
    }
   },
   "outputs": [
    {
     "data": {
      "image/png": "[encoded data removed]",
      "text/plain": [
       "<Figure size 432x288 with 1 Axes>"
      ]
     },
     "metadata": {
      "needs_background": "light"
     },
     "output_type": "display_data"
    }
   ],
   "source": [
    "dens_c = [0, 0, 0, 0, 5]\n",
    "plt.bar(range(len(dens_c)), dens_c);"
   ]
  },
  {
   "cell_type": "code",
   "execution_count": 25,
   "id": "4e708647",
   "metadata": {
    "ExecuteTime": {
     "end_time": "2022-01-28T19:27:32.155063Z",
     "start_time": "2022-01-28T19:27:32.151642Z"
    },
    "deletable": false,
    "nbgrader": {
     "cell_type": "code",
     "checksum": "dac931bc16a78ae011fdaab8f99a54ca",
     "grade": false,
     "grade_id": "cell-6ad0ea3f81976162",
     "locked": false,
     "schema_version": 3,
     "solution": true,
     "task": false
    }
   },
   "outputs": [],
   "source": [
    "def generate_graph_c() -> nx.Graph:\n",
    "    g = nx.complete_graph(5)\n",
    "        \n",
    "    return g"
   ]
  },
  {
   "cell_type": "code",
   "execution_count": 26,
   "id": "3643c6fe",
   "metadata": {
    "ExecuteTime": {
     "end_time": "2022-01-28T19:27:32.891826Z",
     "start_time": "2022-01-28T19:27:32.780687Z"
    },
    "deletable": false,
    "editable": false,
    "nbgrader": {
     "cell_type": "code",
     "checksum": "ae570e373a3db27d589d3d863da0f81e",
     "grade": true,
     "grade_id": "cell-508d2e23c067c4d2",
     "locked": true,
     "points": 0.5,
     "schema_version": 3,
     "solution": false,
     "task": false
    }
   },
   "outputs": [
    {
     "data": {
      "image/png": "[encoded data removed]",
      "text/plain": [
       "<Figure size 432x288 with 1 Axes>"
      ]
     },
     "metadata": {},
     "output_type": "display_data"
    }
   ],
   "source": [
    "G = generate_graph_c()\n",
    "assert nx.degree_histogram(G) == dens_c\n",
    "assert nx.is_connected(G)\n",
    "nx.draw_networkx(G)"
   ]
  },
  {
   "cell_type": "markdown",
   "id": "fcf0490c",
   "metadata": {},
   "source": [
    "__Graph D__"
   ]
  },
  {
   "cell_type": "code",
   "execution_count": 27,
   "id": "ba7e938a",
   "metadata": {
    "ExecuteTime": {
     "end_time": "2022-01-28T19:27:46.542971Z",
     "start_time": "2022-01-28T19:27:46.429681Z"
    }
   },
   "outputs": [
    {
     "data": {
      "image/png": "[encoded data removed]",
      "text/plain": [
       "<Figure size 432x288 with 1 Axes>"
      ]
     },
     "metadata": {
      "needs_background": "light"
     },
     "output_type": "display_data"
    }
   ],
   "source": [
    "dens_d = [0, 5, 0, 0, 0, 1]\n",
    "plt.bar(range(len(dens_d)), dens_d);"
   ]
  },
  {
   "cell_type": "code",
   "execution_count": 28,
   "id": "c0e7f51a",
   "metadata": {
    "ExecuteTime": {
     "end_time": "2022-01-28T19:28:38.430287Z",
     "start_time": "2022-01-28T19:28:38.425507Z"
    },
    "deletable": false,
    "nbgrader": {
     "cell_type": "code",
     "checksum": "f1ab3b74f2b7a677c3844675c785ef5a",
     "grade": false,
     "grade_id": "cell-2a6c0c0fe4dda491",
     "locked": false,
     "schema_version": 3,
     "solution": true,
     "task": false
    }
   },
   "outputs": [],
   "source": [
    "def generate_graph_d() -> nx.Graph:\n",
    "    return nx.star_graph(5)"
   ]
  },
  {
   "cell_type": "code",
   "execution_count": 29,
   "id": "fc67ff35",
   "metadata": {
    "ExecuteTime": {
     "end_time": "2022-01-28T19:28:39.016229Z",
     "start_time": "2022-01-28T19:28:38.909271Z"
    },
    "deletable": false,
    "editable": false,
    "nbgrader": {
     "cell_type": "code",
     "checksum": "c464ac5cf72aa9486f49d10f0029e4eb",
     "grade": true,
     "grade_id": "cell-c9c34144467f9031",
     "locked": true,
     "points": 0.5,
     "schema_version": 3,
     "solution": false,
     "task": false
    }
   },
   "outputs": [
    {
     "data": {
      "image/png": "[encoded data removed]",
      "text/plain": [
       "<Figure size 432x288 with 1 Axes>"
      ]
     },
     "metadata": {},
     "output_type": "display_data"
    }
   ],
   "source": [
    "G = generate_graph_d()\n",
    "assert nx.degree_histogram(G) == dens_d\n",
    "assert nx.is_connected(G)\n",
    "nx.draw_networkx(G)"
   ]
  },
  {
   "cell_type": "markdown",
   "id": "8b875e52",
   "metadata": {},
   "source": [
    "### Task 5. MLE of alpha in Power Law (2 points)"
   ]
  },
  {
   "cell_type": "markdown",
   "id": "e064e2f3",
   "metadata": {},
   "source": [
    "Let us estimate $\\alpha$ and $x_\\min$ of a real social network using maximum likelihood. Here is a real degree distribution of the network of emails between members of the research institution with 1005 nodes."
   ]
  },
  {
   "cell_type": "code",
   "execution_count": 39,
   "id": "3430afee",
   "metadata": {
    "ExecuteTime": {
     "end_time": "2022-01-28T21:13:27.775264Z",
     "start_time": "2022-01-28T21:13:27.642359Z"
    }
   },
   "outputs": [],
   "source": [
    "url = 'https://raw.githubusercontent.com/network-science-course/network-science-course/main/datasets/email_degree_sequence.txt'\n",
    "open('email_degree_sequence.txt', 'wb').write(requests.get(url).content);\n"
   ]
  },
  {
   "cell_type": "code",
   "execution_count": 40,
   "id": "a9cc7d84",
   "metadata": {
    "ExecuteTime": {
     "end_time": "2022-01-28T21:13:28.223279Z",
     "start_time": "2022-01-28T21:13:27.919788Z"
    }
   },
   "outputs": [
    {
     "data": {
      "image/png": "[encoded data removed]",
      "text/plain": [
       "<Figure size 432x288 with 1 Axes>"
      ]
     },
     "metadata": {
      "needs_background": "light"
     },
     "output_type": "display_data"
    }
   ],
   "source": [
    "degree_sequence = np.loadtxt('email_degree_sequence.txt')\n",
    "hist, bin_edges = np.histogram(degree_sequence, bins=1000, density=True)\n",
    "bin_centers = (bin_edges[1:] + bin_edges[:-1]) / 2\n",
    "plt.scatter(bin_centers[hist > 0], hist[hist > 0], s=5)\n",
    "plt.title('Email network degree distribution')\n",
    "plt.xscale('log')\n",
    "plt.yscale('log')"
   ]
  },
  {
   "cell_type": "markdown",
   "id": "1672308b",
   "metadata": {},
   "source": [
    "The MLE consists of:\n",
    "1. Fix $x_\\min$ as a minimal node degree (drop node degrees that less than $x_\\min$)\n",
    "2. Calculate $\\alpha$ via maximum likelihood estimation using fixed $x_\\min$\n",
    "$$\\alpha = 1 + n \\left[\\sum_i \\log \\frac{x_i}{x_\\min} \\right]^{-1}$$\n",
    "3. Calculate Kolmogorov-Smirnov test\n",
    "4. Fix $x_\\min$ as the next node degree\n",
    "5. Repeat 2-4 by scanning all possible $x_\\min$ and find the best $\\alpha$ and $x_\\min$ with respect to Kolmogorov-Smirnov test\n",
    "\n",
    "Write a function `ml_power_law_params` that takes a node degree sequence `degree_sequence` and returns a tuple of two values: the best $\\alpha$ and $x_\\min$.\n",
    "\n",
    "_Hints:_\n",
    "* _To calculate Kolmogorov-Smirnov distance use `scipy.stats.kstest` with a parameter `cdf=power_law_cdf`_"
   ]
  },
  {
   "cell_type": "code",
   "execution_count": 41,
   "id": "regular-typing",
   "metadata": {
    "ExecuteTime": {
     "end_time": "2022-01-28T21:13:28.706596Z",
     "start_time": "2022-01-28T21:13:28.701472Z"
    }
   },
   "outputs": [],
   "source": [
    "from scipy.stats import kstest"
   ]
  },
  {
   "cell_type": "code",
   "execution_count": 42,
   "id": "substantial-brunei",
   "metadata": {
    "ExecuteTime": {
     "end_time": "2022-01-28T21:28:51.318425Z",
     "start_time": "2022-01-28T21:28:51.312807Z"
    }
   },
   "outputs": [],
   "source": [
    "def eval_alpha(degree_sequence, x_min, eps=1e-7):\n",
    "    th = max(1, x_min)\n",
    "    degree_sequence = degree_sequence[degree_sequence - th + eps > 0]\n",
    "    n = degree_sequence.shape[0]\n",
    "\n",
    "    lg = np.log(degree_sequence / x_min)\n",
    "    return 1 + n / (np.sum(lg))"
   ]
  },
  {
   "cell_type": "code",
   "execution_count": 54,
   "id": "970c6d13",
   "metadata": {
    "ExecuteTime": {
     "end_time": "2022-01-28T21:28:51.474872Z",
     "start_time": "2022-01-28T21:28:51.467670Z"
    },
    "deletable": false,
    "nbgrader": {
     "cell_type": "code",
     "checksum": "8bc64f253c03d807aade17cb9dee113b",
     "grade": false,
     "grade_id": "cell-c0da4153dae3178a",
     "locked": false,
     "schema_version": 3,
     "solution": true,
     "task": false
    }
   },
   "outputs": [],
   "source": [
    "def mle_power_law_params(degree_sequence, eps=1e-7):\n",
    "    best_pair = (float('inf'), -1, -1)\n",
    "    for x_min in range(1, int(degree_sequence.max())):\n",
    "        rvs = degree_sequence[degree_sequence - x_min + eps > 0]\n",
    "        alpha = eval_alpha(degree_sequence, x_min)\n",
    "        s = kstest(rvs, cdf=lambda x: power_law_cdf(x, alpha, x_min)).statistic\n",
    "        #print(s)\n",
    "        if best_pair[0] > s:\n",
    "            best_pair = (s, alpha, x_min)\n",
    "\n",
    "    return best_pair[1:]"
   ]
  },
  {
   "cell_type": "code",
   "execution_count": 55,
   "id": "b6d23980",
   "metadata": {},
   "outputs": [
    {
     "name": "stdout",
     "output_type": "stream",
     "text": [
      "3.53190426223623 3\n"
     ]
    }
   ],
   "source": [
    "alpha, x_min = 3.5, 3\n",
    "hat_alpha, hat_x_min = mle_power_law_params(power_law_generate(1000, alpha, x_min))\n",
    "print(hat_alpha, hat_x_min)"
   ]
  },
  {
   "cell_type": "code",
   "execution_count": 56,
   "id": "950ee47d",
   "metadata": {
    "ExecuteTime": {
     "end_time": "2022-01-28T21:28:51.882525Z",
     "start_time": "2022-01-28T21:28:51.635084Z"
    },
    "deletable": false,
    "editable": false,
    "nbgrader": {
     "cell_type": "code",
     "checksum": "0429967c2ea55efbadc6b45066f153ae",
     "grade": true,
     "grade_id": "cell-213992ed205e9591",
     "locked": true,
     "points": 2,
     "schema_version": 3,
     "solution": false,
     "task": false
    }
   },
   "outputs": [],
   "source": [
    "alpha, x_min = 3.5, 3\n",
    "hat_alpha, hat_x_min = mle_power_law_params(power_law_generate(1000, alpha, x_min))\n",
    "assert np.abs(hat_alpha - alpha) < 0.05\n",
    "assert np.abs(hat_x_min - x_min) < 0.001\n",
    "\n",
    "alpha, x_min = 7, 1\n",
    "hat_alpha, hat_x_min = mle_power_law_params(power_law_generate(1000, alpha, x_min))\n",
    "assert np.abs(hat_alpha - alpha) < 0.1\n",
    "assert np.abs(hat_x_min - x_min) < 0.0001\n",
    "\n",
    "hat_alpha, hat_x_min = mle_power_law_params(degree_sequence)\n",
    "assert np.abs(hat_alpha - 2.9) < 0.1\n",
    "assert np.abs(hat_x_min - 42) < 1"
   ]
  },
  {
   "cell_type": "code",
   "execution_count": 555,
   "id": "a00a42a1",
   "metadata": {
    "ExecuteTime": {
     "end_time": "2022-01-28T21:28:52.754488Z",
     "start_time": "2022-01-28T21:28:52.237515Z"
    }
   },
   "outputs": [
    {
     "data": {
      "image/png": "[encoded data removed]",
      "text/plain": [
       "<Figure size 432x288 with 1 Axes>"
      ]
     },
     "metadata": {
      "needs_background": "light"
     },
     "output_type": "display_data"
    }
   ],
   "source": [
    "hist, bin_edges = np.histogram(degree_sequence, bins=1000, density=True)\n",
    "bin_centers = (bin_edges[1:] + bin_edges[:-1]) / 2\n",
    "plt.scatter(bin_centers[hist > 0], hist[hist > 0], s=5)\n",
    "plt.title('Email network degree distribution')\n",
    "\n",
    "hat_alpha, hat_x_min = mle_power_law_params(degree_sequence)\n",
    "x_space = np.linspace(hat_x_min, degree_sequence.max(), 100)\n",
    "plt.plot(x_space, power_law_pdf(x_space, hat_alpha, hat_x_min), \n",
    "         label='Estimated PDF', c='tab:orange')\n",
    "plt.xscale('log')\n",
    "plt.yscale('log')\n",
    "plt.ylim(0.001, 0.5);"
   ]
  },
  {
   "cell_type": "markdown",
   "id": "5a525068",
   "metadata": {},
   "source": [
    "### Task 6. QQ Plot (2 points)"
   ]
  },
  {
   "cell_type": "markdown",
   "id": "f9199f6e",
   "metadata": {},
   "source": [
    "It might be useful to draw a quantile-quantile plot (QQ plot) to compare empirical and theoretical distributions by the eye. Your task here is to generate Power Law observations by given parameters and compare theoretical and empirical quantiles.\n",
    "\n",
    "Write a function `qqplot_data` that takes $\\alpha$, $x_\\min$, number of observations $n$ that will be generated and returns a tuple with two np.arrays: theoretical quantiles and empirical quantiles. Let quantiles be calculated for probabilities 0, 0.01, 0.02, ..., 0.99.\n",
    "\n",
    "_Hint: to calculate an empirical quantile, use `np.quantile`_"
   ]
  },
  {
   "cell_type": "code",
   "execution_count": 556,
   "id": "58b46d1f",
   "metadata": {
    "ExecuteTime": {
     "end_time": "2022-01-28T21:28:54.476654Z",
     "start_time": "2022-01-28T21:28:54.469907Z"
    },
    "deletable": false,
    "nbgrader": {
     "cell_type": "code",
     "checksum": "8eec986886f46027e0d0884381921de0",
     "grade": false,
     "grade_id": "cell-7536b41d94152420",
     "locked": false,
     "schema_version": 3,
     "solution": true,
     "task": false
    }
   },
   "outputs": [],
   "source": [
    "def qqplot_data(alpha, x_min, n):\n",
    "    q = np.arange(0, 1, 0.01)\n",
    "    \n",
    "    sample = power_law_generate(n, alpha, x_min)\n",
    "    \n",
    "    th_q = np.array([power_law_ppf(e, alpha, x_min) for e in q])\n",
    "    e_q = np.array([np.quantile(sample, e) for e in q])\n",
    "    return th_q, e_q"
   ]
  },
  {
   "cell_type": "code",
   "execution_count": 557,
   "id": "78f86b3d",
   "metadata": {
    "ExecuteTime": {
     "end_time": "2022-01-28T21:28:54.959047Z",
     "start_time": "2022-01-28T21:28:54.914731Z"
    },
    "deletable": false,
    "editable": false,
    "nbgrader": {
     "cell_type": "code",
     "checksum": "4be6b71ef9a8571adaea471ab20aad2e",
     "grade": true,
     "grade_id": "cell-cee74bedb007dbfa",
     "locked": true,
     "points": 2,
     "schema_version": 3,
     "solution": false,
     "task": false
    }
   },
   "outputs": [],
   "source": [
    "x_min = 1\n",
    "alpha = 3.5\n",
    "\n",
    "theor100, empir100 = qqplot_data(alpha, x_min, 100)\n",
    "theor200, empir200 = qqplot_data(alpha, x_min, 200)\n",
    "theor1000, empir1000 = qqplot_data(alpha, x_min, 1000)\n",
    "assert np.linalg.norm(theor1000 - empir1000) < np.linalg.norm(theor200 - empir200)\n",
    "assert np.linalg.norm(theor200 - empir200) < np.linalg.norm(theor100 - empir100)"
   ]
  },
  {
   "cell_type": "code",
   "execution_count": 558,
   "id": "fa7adda8",
   "metadata": {
    "ExecuteTime": {
     "end_time": "2022-01-28T21:28:56.065567Z",
     "start_time": "2022-01-28T21:28:55.565658Z"
    }
   },
   "outputs": [
    {
     "data": {
      "image/png": "[encoded data removed]",
      "text/plain": [
       "<Figure size 864x216 with 3 Axes>"
      ]
     },
     "metadata": {
      "needs_background": "light"
     },
     "output_type": "display_data"
    }
   ],
   "source": [
    "plt.figure(figsize=(12, 3))\n",
    "\n",
    "plt.subplots_adjust(wspace=0.3)\n",
    "\n",
    "plt.subplot(1, 3, 1)\n",
    "plt.scatter(theor100, empir100, s=10)\n",
    "plt.plot([1, 7], [1, 7], '--', c='tab:orange')\n",
    "plt.title('QQ plot, N = 100')\n",
    "plt.xlabel('Theoretical distribution')\n",
    "plt.ylabel('Empirical distribution')\n",
    "plt.axis('square')\n",
    "\n",
    "plt.subplot(1, 3, 2)\n",
    "plt.scatter(theor200, empir200, s=10)\n",
    "plt.plot([1, 7], [1, 7], '--', c='tab:orange')\n",
    "plt.title('QQ plot, N = 200')\n",
    "plt.xlabel('Theoretical distribution')\n",
    "plt.ylabel('Empirical distribution')\n",
    "plt.axis('square')\n",
    "\n",
    "plt.subplot(1, 3, 3)\n",
    "plt.scatter(theor1000, empir1000, s=10)\n",
    "plt.plot([1, 7], [1, 7], '--', c='tab:orange')\n",
    "plt.title('QQ plot, N = 1000')\n",
    "plt.xlabel('Theoretical distribution')\n",
    "plt.ylabel('Empirical distribution')\n",
    "plt.axis('square');"
   ]
  },
  {
   "cell_type": "code",
   "execution_count": null,
   "id": "distinguished-february",
   "metadata": {},
   "outputs": [],
   "source": []
  }
 ],
 "metadata": {
  "kernelspec": {
   "display_name": "p3.7",
   "language": "python",
   "name": "p3.7"
  },
  "language_info": {
   "codemirror_mode": {
    "name": "ipython",
    "version": 3
   },
   "file_extension": ".py",
   "mimetype": "text/x-python",
   "name": "python",
   "nbconvert_exporter": "python",
   "pygments_lexer": "ipython3",
   "version": "3.7.11"
  }
 },
 "nbformat": 4,
 "nbformat_minor": 5
}
