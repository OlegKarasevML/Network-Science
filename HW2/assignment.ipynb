{
 "cells": [
  {
   "cell_type": "markdown",
   "id": "2e223f89",
   "metadata": {},
   "source": [
    "# Assignment — Power Law"
   ]
  },
  {
   "cell_type": "code",
   "execution_count": 2,
   "id": "55bb28cf",
   "metadata": {},
   "outputs": [],
   "source": [
    "from typing import List\n",
    "from zlib import adler32\n",
    "import networkx as nx\n",
    "import requests\n",
    "import matplotlib.pyplot as plt\n",
    "import pandas as pd\n",
    "import numpy as np\n",
    "import scipy.integrate as integrate\n",
    "from scipy.misc import derivative\n",
    "from math import inf, log, exp\n",
    "from sklearn.linear_model import LinearRegression\n",
    "from scipy.stats import kstest, probplot, norm, powerlaw\n",
    "%matplotlib inline"
   ]
  },
  {
   "cell_type": "markdown",
   "id": "d1ed2952",
   "metadata": {},
   "source": [
    "### Task 1. Power law CDF (1 points)"
   ]
  },
  {
   "cell_type": "markdown",
   "id": "e81bd77f",
   "metadata": {},
   "source": [
    "Scale-free network has a Power law degree distribution. Let us take a closer look at this distribution. The PDF of the Power law is \n",
    "\n",
    "$$ p(x) = Cx^{-\\alpha},$$ \n",
    "\n",
    "where $C$ is a normalization constant \n",
    "\n",
    "$$C = \\frac{\\alpha - 1}{x_{\\text{min}}^{-\\alpha + 1}}$$ \n",
    "\n",
    "and $\\alpha>1$ is called an exponent of the distribution. "
   ]
  },
  {
   "cell_type": "code",
   "execution_count": 3,
   "id": "ac290039",
   "metadata": {},
   "outputs": [],
   "source": [
    "def power_law_pdf(x, alpha=3.5, x_min=1):\n",
    "    C = (alpha - 1) / x_min ** (1 - alpha)\n",
    "    return C * x ** (-alpha)"
   ]
  },
  {
   "cell_type": "code",
   "execution_count": 4,
   "id": "d2b3300c",
   "metadata": {},
   "outputs": [
    {
     "data": {
      "image/png": "[encoded data removed]",
      "text/plain": [
       "<Figure size 432x288 with 1 Axes>"
      ]
     },
     "metadata": {
      "needs_background": "light"
     },
     "output_type": "display_data"
    }
   ],
   "source": [
    "x_space = np.linspace(1, 10, 100)\n",
    "plt.plot(x_space, power_law_pdf(x_space))\n",
    "plt.title('Power Law PDF');"
   ]
  },
  {
   "cell_type": "markdown",
   "id": "397028f6",
   "metadata": {},
   "source": [
    "Let us generate observations from a Power Law RV. The first step is to derive CDF of Powel law: $F(x) = P(X \\leq x)$\n",
    "\n",
    "$$F(x) = 1 - \\int_{x}^\\infty p(t) dt.$$\n",
    "\n",
    "Take the integral, derive CDF analytically and then write a function `power_law_cdf` with parameters `x`, `alpha` and `x_min`."
   ]
  },
  {
   "cell_type": "code",
   "execution_count": 5,
   "id": "c05be41c",
   "metadata": {
    "deletable": false,
    "nbgrader": {
     "cell_type": "code",
     "checksum": "dfa3158ba5ebe1454116372e3a44aec9",
     "grade": false,
     "grade_id": "cell-f682e125051975d6",
     "locked": false,
     "schema_version": 3,
     "solution": true,
     "task": false
    }
   },
   "outputs": [],
   "source": [
    "def power_law_cdf(x, alpha=3.5, x_min=1):\n",
    "    return 1 - (x / x_min)**(-alpha + 1)"
   ]
  },
  {
   "cell_type": "code",
   "execution_count": 6,
   "id": "2877156d",
   "metadata": {
    "deletable": false,
    "editable": false,
    "nbgrader": {
     "cell_type": "code",
     "checksum": "100d7a9557527135f54f17f67b3f82fa",
     "grade": true,
     "grade_id": "cell-87d0428f480773c4",
     "locked": true,
     "points": 1,
     "schema_version": 3,
     "solution": false,
     "task": false
    }
   },
   "outputs": [],
   "source": [
    "assert power_law_cdf(2, 2, 1) == 0.5\n",
    "assert power_law_cdf(10, 2, 1) == 0.9\n",
    "assert adler32(str(power_law_cdf(2, 3, 1)).encode()) == 32571595"
   ]
  },
  {
   "cell_type": "code",
   "execution_count": 7,
   "id": "f6047e49",
   "metadata": {},
   "outputs": [
    {
     "data": {
      "image/png": "[encoded data removed]",
      "text/plain": [
       "<Figure size 432x288 with 1 Axes>"
      ]
     },
     "metadata": {
      "needs_background": "light"
     },
     "output_type": "display_data"
    }
   ],
   "source": [
    "x_space = np.linspace(1, 10, 100)\n",
    "plt.plot(x_space, power_law_cdf(x_space))\n",
    "plt.title('Power Law CDF');"
   ]
  },
  {
   "cell_type": "markdown",
   "id": "d1705532",
   "metadata": {},
   "source": [
    "### Task 2. Power law PPF (1 points)"
   ]
  },
  {
   "cell_type": "markdown",
   "id": "de9e3713",
   "metadata": {},
   "source": [
    "Let $X \\sim \\text{Power law}$. Next, define a random variable $R$, s.t. $R = F(X)$, so $R$ will be uniformly distributed on interval [0, 1] ([proof](https://en.wikipedia.org/wiki/Probability_integral_transform#Proof)). Good thing here is that we easily can generate uniformly distributed pseudorandom numbers and then transform them into Power Law. Let us find an expression for $x = F^{-1}(r)$, where $r$ is an observation from uniform distrubution on interval [0, 1]. \n",
    "\n",
    "Find an analytical form of $F^{-1}(r)$ and write a function `power_law_ppf` (percent point function, also known as a quantile) with parameters `r`, `alpha` and `x_min`. "
   ]
  },
  {
   "cell_type": "code",
   "execution_count": 8,
   "id": "8e93abab",
   "metadata": {
    "deletable": false,
    "nbgrader": {
     "cell_type": "code",
     "checksum": "be67ee873cb3bf60c2e62921b187b228",
     "grade": false,
     "grade_id": "cell-63a819b2bc8441f1",
     "locked": false,
     "schema_version": 3,
     "solution": true,
     "task": false
    }
   },
   "outputs": [],
   "source": [
    "def power_law_ppf(r, alpha=3.5, x_min=1):\n",
    "    return x_min * (1- r)**(1 / (-alpha + 1))"
   ]
  },
  {
   "cell_type": "code",
   "execution_count": 9,
   "id": "d5f5fc58",
   "metadata": {
    "deletable": false,
    "editable": false,
    "nbgrader": {
     "cell_type": "code",
     "checksum": "b32d610b69907fe3c30a3f098fe01b2c",
     "grade": true,
     "grade_id": "cell-0b447767612a3798",
     "locked": true,
     "points": 1,
     "schema_version": 3,
     "solution": false,
     "task": false
    }
   },
   "outputs": [],
   "source": [
    "assert round(power_law_ppf(0.5, 2, 1), 2) == 2\n",
    "assert round(power_law_ppf(0.9, 2, 1), 2) == 10\n",
    "assert adler32(str(round(power_law_ppf(0.96, 3, 1), 2)).encode()) == 19792020"
   ]
  },
  {
   "cell_type": "code",
   "execution_count": 10,
   "id": "de28f351",
   "metadata": {},
   "outputs": [
    {
     "data": {
      "image/png": "[encoded data removed]",
      "text/plain": [
       "<Figure size 432x288 with 1 Axes>"
      ]
     },
     "metadata": {
      "needs_background": "light"
     },
     "output_type": "display_data"
    }
   ],
   "source": [
    "x_space = np.linspace(0, 0.999, 100)\n",
    "plt.plot(x_space, power_law_ppf(x_space))\n",
    "plt.title('Power Law PPF');"
   ]
  },
  {
   "cell_type": "markdown",
   "id": "4f0ff961",
   "metadata": {},
   "source": [
    "Finally, we can generate observation from Power law distribution as follows:\n",
    "1. Generate observation from uniform distribution on interval [0, 1]\n",
    "2. Calculate PPF value of given observation"
   ]
  },
  {
   "cell_type": "code",
   "execution_count": 11,
   "id": "13f54551",
   "metadata": {},
   "outputs": [],
   "source": [
    "def power_law_generate(n, alpha=3.5, x_min=1, random_seed=1):\n",
    "    np.random.seed(random_seed)\n",
    "    uni_sample = np.random.uniform(0, 0.999, n)\n",
    "    return power_law_ppf(uni_sample, alpha, x_min)"
   ]
  },
  {
   "cell_type": "markdown",
   "id": "f8a6ee03",
   "metadata": {},
   "source": [
    "Look at the histogram of the generated sample"
   ]
  },
  {
   "cell_type": "code",
   "execution_count": 12,
   "id": "428cbab7",
   "metadata": {},
   "outputs": [],
   "source": [
    "alpha = 3.5\n",
    "x_min = 1\n",
    "x_train = power_law_generate(1000, alpha, x_min)\n",
    "x_space = np.linspace(1, 15, 100)"
   ]
  },
  {
   "cell_type": "code",
   "execution_count": 13,
   "id": "8ff998f2",
   "metadata": {},
   "outputs": [
    {
     "data": {
      "text/plain": [
       "array([1.24055183, 1.66299667, 1.00004571, 1.15468987, 1.06546897,\n",
       "       1.03947196, 1.08584046, 1.18456952, 1.22374767, 1.36222153,\n",
       "       1.24240268, 1.58642349, 1.09569293, 2.31406889, 1.01115838,\n",
       "       1.55771362, 1.24079221, 1.38638114, 1.06230794, 1.09221799,\n",
       "       1.9034401 , 3.92776399, 1.16210485, 1.60092622, 2.30117724,\n",
       "       2.45135607, 1.03615281, 1.01604628, 1.07720346, 2.31425774,\n",
       "       1.04223403, 1.24404058, 3.51833079, 1.35561528, 1.60000293,\n",
       "       1.16352181, 1.58900588, 2.04992624, 1.00740285, 1.73941629,\n",
       "       5.84100513, 1.73395846, 1.14052935, 1.86151988, 1.04449605,\n",
       "       1.2677978 , 2.59355033, 1.14897614, 1.14520443, 1.05723624,\n",
       "       1.0078455 , 1.57377343, 1.09966632, 1.13123157, 1.31020947,\n",
       "       1.02215495, 1.40620973, 1.06545534, 1.42673519, 1.61661732,\n",
       "       1.04408143, 1.23804046, 1.60525661, 1.23814449, 1.02068778,\n",
       "       1.35879379, 1.54530961, 1.33499398, 3.15967875, 1.42294017,\n",
       "       2.53743838, 1.06087344, 1.06176009, 1.92931415, 1.22448513,\n",
       "       1.07489168, 2.84234495, 1.18616741, 1.7412719 , 1.67663614,\n",
       "       2.35434841, 1.47735826, 1.74163486, 1.18699097, 1.13393845,\n",
       "       2.46324883, 1.2500843 , 3.77466013, 1.54466273, 1.47427414,\n",
       "       1.04990576, 3.27650858, 1.26965331, 1.41187851, 1.23308131,\n",
       "       1.11414667, 2.53720553, 1.40563286, 1.00114929, 1.46725782,\n",
       "       1.17116501, 1.34860075, 2.37577723, 1.19314155, 2.59287308,\n",
       "       1.47686977, 1.00639301, 2.87274136, 1.59797805, 9.41720456,\n",
       "       1.07850745, 1.06070692, 2.92507698, 1.61034868, 1.02765894,\n",
       "       1.75439086, 1.74987595, 2.77580137, 1.64258796, 1.05445354,\n",
       "       1.00805633, 1.01067   , 1.01154037, 1.11954967, 2.19037949,\n",
       "       1.36223843, 1.37909186, 2.08760158, 1.05440657, 1.13973237,\n",
       "       1.42184878, 3.99367655, 1.38932634, 1.0075501 , 1.90301484,\n",
       "       1.1117913 , 1.92817496, 1.21660569, 2.21260733, 1.73110276,\n",
       "       1.38332179, 1.06037287, 1.02499696, 1.05304845, 1.01837811,\n",
       "       1.04648895, 1.10761227, 1.64592317, 1.38767104, 1.00506187,\n",
       "       1.03029721, 3.88145644, 1.39835859, 1.09505587, 1.12319824,\n",
       "       1.72219453, 1.09076743, 1.41586614, 4.01546241, 2.11334975,\n",
       "       1.11579642, 1.31247606, 1.4715776 , 2.0227496 , 1.0705173 ,\n",
       "       1.00752093, 1.02943251, 1.30486934, 1.45104032, 1.39933009,\n",
       "       1.16477805, 5.79452115, 1.41369413, 1.2105323 , 1.37679229,\n",
       "       1.72625213, 1.55539232, 1.13084598, 1.02780611, 1.20277659,\n",
       "       1.48693351, 1.09885708, 1.74671194, 1.02789482, 1.12802876,\n",
       "       1.91890331, 1.08968868, 1.50283467, 1.34589252, 2.80161017,\n",
       "       1.12985027, 1.02764176, 1.69927466, 1.80457093, 2.58484868,\n",
       "       2.91448177, 1.00563005, 1.11259591, 1.46669774, 3.26455247,\n",
       "       3.29414911, 1.38383588, 2.67671133, 1.50634954, 1.21831398,\n",
       "       1.30451004, 1.44808174, 1.37508251, 2.82206954, 2.71695438,\n",
       "       1.22221839, 3.71073617, 1.07934946, 1.05544551, 1.05969852,\n",
       "       1.32499077, 1.00873305, 3.23863919, 2.01404156, 1.00606538,\n",
       "       1.08052133, 1.1749506 , 1.05770674, 1.93774641, 1.18397431,\n",
       "       3.06439946, 1.41675143, 2.31947328, 2.10197424, 2.55843785,\n",
       "       1.27895756, 1.37120165, 1.8953605 , 1.14388628, 1.30885432,\n",
       "       1.44055759, 1.00627537, 1.43256523, 1.25499254, 1.92919155,\n",
       "       1.16333798, 2.43569988, 1.41116767, 1.0846433 , 1.85679279,\n",
       "       1.45951123, 1.02239093, 1.24325717, 1.57422954, 2.71521709,\n",
       "       1.00016069, 4.42942637, 1.20776626, 4.22897142, 1.44867443,\n",
       "       2.02211455, 1.40699305, 1.48431234, 1.14379509, 1.42332255,\n",
       "       1.7390765 , 2.17981603, 1.75330352, 1.61298008, 2.21867298,\n",
       "       1.16842262, 1.55831967, 1.27054075, 1.21206554, 1.23531345,\n",
       "       1.22758599, 1.16479272, 1.474622  , 1.25197109, 4.23012422,\n",
       "       1.57175628, 1.09247297, 1.24887301, 1.18297241, 1.89175859,\n",
       "       2.3283902 , 2.54202905, 1.54334374, 1.13411244, 1.12322282,\n",
       "       2.15928557, 1.34934875, 1.90885252, 1.40406888, 1.69438324,\n",
       "       1.33954966, 1.80050468, 1.39933858, 1.28451088, 1.18249979,\n",
       "       1.0286318 , 1.20880756, 1.03371127, 4.96934458, 1.08337281,\n",
       "       1.94741421, 2.29071645, 1.5928872 , 1.40016376, 1.07264491,\n",
       "       1.28563578, 1.18428866, 1.10722998, 1.4312042 , 1.16132536,\n",
       "       2.68552858, 2.6053193 , 1.12608719, 1.04808472, 1.08943427,\n",
       "       1.31854283, 1.68298864, 1.09775876, 1.12063279, 2.14050376,\n",
       "       1.23955626, 1.46655532, 1.11219217, 1.04391084, 1.33605872,\n",
       "       1.29565002, 1.06843475, 1.47444599, 1.36839283, 1.52795402,\n",
       "       1.0643682 , 1.7432684 , 1.10552752, 1.33992804, 1.8476927 ,\n",
       "       1.00906512, 1.16958317, 2.27605705, 2.10184061, 1.36177834,\n",
       "       2.23266466, 3.284602  , 2.01076851, 2.15467695, 1.04241724,\n",
       "       1.52299054, 1.62475676, 1.4568327 , 1.89916334, 1.01415814,\n",
       "       1.79848942, 1.6908188 , 1.1276533 , 1.12605753, 1.49109612,\n",
       "       1.18437926, 1.88786518, 1.26619932, 1.83903858, 6.18322952,\n",
       "       1.1533149 , 1.06360377, 2.51598876, 1.36546845, 4.28994523,\n",
       "       1.49811129, 7.24377413, 1.37086882, 1.34788189, 1.05986928,\n",
       "       1.19198355, 1.01067315, 1.07235072, 1.7270705 , 1.0124124 ,\n",
       "       1.20008686, 2.20495589, 1.60166349, 1.59807128, 1.08711001,\n",
       "       1.2623478 , 1.4161611 , 6.02176368, 1.09539264, 1.12045385,\n",
       "       1.1291626 , 1.73949423, 1.27622147, 1.02369796, 1.32805691,\n",
       "       1.0998514 , 1.89536294, 1.15140016, 1.01124913, 1.4324964 ,\n",
       "       2.09718317, 1.21121535, 1.73862367, 1.33089926, 1.36474683,\n",
       "       3.57006127, 1.91580785, 1.01321601, 1.6377613 , 1.28383155,\n",
       "       3.22840512, 1.10517778, 1.13217143, 1.03454171, 1.25054512,\n",
       "       1.04720407, 1.49350265, 1.9119415 , 1.61031127, 1.78608551,\n",
       "       1.18233113, 2.10801469, 1.25067618, 1.99983057, 1.48180423,\n",
       "       1.06381072, 1.03315568, 1.00742104, 1.02797778, 1.27773393,\n",
       "       1.04924117, 1.01132284, 1.75267449, 1.22219812, 1.73060349,\n",
       "       1.27195778, 1.26981426, 1.29657273, 1.29255944, 1.9127148 ,\n",
       "       1.22833452, 2.55091813, 1.01520515, 1.80994993, 1.05511355,\n",
       "       1.46935568, 1.00417183, 1.36199825, 1.00120853, 3.32090842,\n",
       "       2.55854185, 1.88557322, 2.67255961, 1.06487203, 1.07099379,\n",
       "       1.08657245, 1.47552004, 2.56291692, 6.06589067, 1.64167573,\n",
       "       1.69099919, 2.60142495, 1.22709012, 1.12171638, 1.07907526,\n",
       "       1.0521465 , 1.95051945, 1.06548717, 1.13046392, 1.97801434,\n",
       "       1.16019244, 4.92631657, 1.13190416, 1.35618138, 1.16281061,\n",
       "       2.61840575, 1.20009711, 1.2549182 , 1.33215241, 3.0401607 ,\n",
       "       1.01264168, 1.65489961, 2.41905134, 1.01111669, 1.34294375,\n",
       "       1.17071024, 2.18704082, 1.38616395, 1.59660108, 1.27237413,\n",
       "       1.4846832 , 1.14669887, 1.0037603 , 1.40970125, 1.16076897,\n",
       "       1.33761575, 2.68680175, 1.24867629, 1.12025349, 1.20370019,\n",
       "       2.91261006, 3.00152671, 2.09980178, 2.7366617 , 1.10886679,\n",
       "       1.03725804, 1.10852815, 1.16274938, 1.0797727 , 1.45216644,\n",
       "       1.23764449, 1.9662311 , 1.08523875, 1.62118668, 1.11609436,\n",
       "       1.40634348, 1.18705597, 1.02371313, 1.10939125, 1.54587439,\n",
       "       1.31609569, 1.33955451, 1.0797488 , 1.40175225, 8.89031911,\n",
       "       1.96829471, 1.43382032, 4.37436385, 2.51855898, 1.43556638,\n",
       "       1.01325921, 1.04003922, 1.02738278, 1.27133538, 1.20688115,\n",
       "       4.33044283, 1.07624739, 4.168613  , 1.78994469, 2.00086184,\n",
       "       1.49160195, 1.55445544, 1.29539422, 1.00529802, 1.18999508,\n",
       "       1.31072281, 1.68672361, 1.28732294, 1.2766248 , 1.06096586,\n",
       "       1.00438456, 1.762502  , 1.16654816, 5.1516577 , 1.10449887,\n",
       "       1.17965156, 1.34501853, 1.75275987, 1.28273743, 1.05471902,\n",
       "       1.16148157, 1.32376977, 1.56413407, 1.79821273, 1.05738544,\n",
       "       1.00930636, 1.33962826, 1.93976572, 1.00508131, 1.56150428,\n",
       "       1.58962735, 1.26904064, 2.6665276 , 1.5110604 , 1.00210154,\n",
       "       1.30293057, 2.18598143, 2.02946113, 1.5192609 , 1.56384618,\n",
       "       1.41202548, 1.13654968, 1.388695  , 1.5600995 , 1.1895719 ,\n",
       "       2.16481058, 1.0905552 , 1.73164627, 1.14638023, 1.80971074,\n",
       "       1.24977559, 1.93053969, 1.19038373, 1.10081919, 1.78936138,\n",
       "       1.15888744, 1.69464277, 1.72393147, 1.10515734, 1.10105356,\n",
       "       1.09267891, 1.06336214, 1.20815509, 1.01084295, 1.04809842,\n",
       "       1.56550358, 1.89977205, 1.03411698, 1.11105564, 1.09744389,\n",
       "       2.69867892, 1.64211101, 1.38040196, 1.15613778, 2.05105285,\n",
       "       1.2564374 , 2.78197206, 1.63032774, 1.29653187, 1.05538788,\n",
       "       4.37818105, 1.07206432, 1.09467661, 1.25279196, 1.22982281,\n",
       "       1.06546676, 1.68480408, 1.08716797, 1.51027231, 1.75109469,\n",
       "       1.09916758, 1.44320992, 1.7360552 , 1.50077426, 1.43772418,\n",
       "       1.15019212, 1.69051215, 3.17581305, 1.2478831 , 1.83712898,\n",
       "       1.0233562 , 2.05311834, 1.08905014, 1.2223969 , 1.15320478,\n",
       "       1.03392566, 2.55033402, 1.20282996, 1.35276543, 1.31283492,\n",
       "       1.05827347, 1.09679631, 1.03217274, 1.32741615, 1.12878165,\n",
       "       1.19298726, 1.04675667, 1.85547892, 1.04606281, 5.32581498,\n",
       "       1.08102737, 1.40395958, 1.01850312, 1.85396661, 1.08762921,\n",
       "       1.34956473, 1.71225544, 1.06705742, 1.37696236, 1.10245878,\n",
       "       1.76517484, 1.66917655, 1.08070625, 2.20254527, 1.00801316,\n",
       "       2.19168008, 1.38664951, 1.22901476, 1.76386512, 1.6550169 ,\n",
       "       5.56935727, 1.13903923, 1.00151999, 2.94773853, 2.17727468,\n",
       "       1.68364448, 1.33697607, 1.63233176, 1.83160941, 1.20645012,\n",
       "       1.7987507 , 1.74074939, 1.46128611, 1.22790256, 1.61138717,\n",
       "       1.00124661, 1.81321889, 2.46823805, 1.11548459, 1.05277263,\n",
       "       1.10452703, 1.154534  , 2.35213098, 1.36738362, 1.14452197,\n",
       "       1.06130619, 1.14672959, 1.46228193, 1.16942838, 1.27658278,\n",
       "       1.26435183, 2.01878623, 1.24856622, 1.18466937, 1.56628613,\n",
       "       1.10520575, 1.28598814, 1.16301303, 1.4823735 , 2.3083915 ,\n",
       "       1.26761033, 1.84482714, 1.27621244, 1.53165579, 1.05811752,\n",
       "       1.25437823, 2.60163812, 1.44979149, 1.78780216, 1.32396333,\n",
       "       1.31693845, 2.09218354, 1.02845434, 1.40509742, 3.11953566,\n",
       "       1.33827161, 1.09024593, 2.11947011, 1.12278647, 1.61869921,\n",
       "       1.3639279 , 3.26004111, 1.47840023, 2.06668464, 1.00318767,\n",
       "       5.93581434, 1.03285468, 1.16804286, 3.19527005, 1.00359456,\n",
       "       1.99407518, 2.19777969, 1.26048003, 1.12525683, 1.91088548,\n",
       "       1.29636401, 1.05933623, 2.84762832, 2.4640343 , 1.31018066,\n",
       "       2.17004666, 1.24187649, 1.58291124, 1.22473998, 1.32507622,\n",
       "       1.08760013, 3.78089431, 1.1493672 , 1.04460476, 1.06425382,\n",
       "       1.00568741, 1.65273093, 1.39373125, 1.88048929, 1.32651077,\n",
       "       1.87053472, 1.60812223, 1.82277508, 1.231708  , 1.51687779,\n",
       "       1.08241253, 1.16782988, 1.07864498, 1.23349788, 1.11671894,\n",
       "       1.2320721 , 4.32184989, 1.16679936, 4.93413141, 1.49762107,\n",
       "       1.20661593, 2.17476867, 1.471008  , 1.12302266, 1.87424837,\n",
       "       1.25434025, 1.19332058, 1.17369769, 1.61151635, 1.13314666,\n",
       "       1.93285999, 1.15006597, 1.36852612, 1.30647149, 2.16200186,\n",
       "       2.39627125, 1.0848421 , 1.42128649, 2.48532618, 1.26617284,\n",
       "       2.7595065 , 1.13961063, 1.45473583, 1.58089941, 1.10904208,\n",
       "       1.00555505, 1.24029867, 3.03227575, 1.18274359, 1.82900641,\n",
       "       1.07975725, 1.18197133, 1.06439414, 1.6546484 , 1.61565078,\n",
       "       1.59305859, 1.12384116, 1.60100403, 1.10852116, 1.24709264,\n",
       "       1.20418098, 1.19169015, 1.02401275, 1.49003512, 1.63313262,\n",
       "       1.46185548, 1.51781   , 1.07726064, 1.06681444, 1.33421038,\n",
       "       2.29341973, 1.08461316, 1.28176566, 1.2508192 , 1.31613655,\n",
       "       1.07292051, 1.18232145, 1.12898373, 2.10085881, 1.9018747 ,\n",
       "       1.24881922, 1.4520504 , 1.06482592, 1.32924211, 1.15114873,\n",
       "       2.18804083, 1.55985053, 1.49299416, 1.05468471, 1.28922317,\n",
       "       5.45115694, 3.24671028, 1.51229011, 1.06795816, 1.50227963,\n",
       "       1.3952204 , 1.28735921, 1.25003742, 1.44078627, 2.13082231,\n",
       "       1.7421327 , 1.41317808, 2.8000851 , 1.02710544, 6.40150412,\n",
       "       1.02199621, 1.09297748, 1.24545502, 1.04649586, 1.47735545,\n",
       "       1.0198472 , 1.14318659, 1.02548487, 1.62476188, 1.55393813,\n",
       "       1.20931733, 1.08687321, 1.73078426, 1.18084438, 1.88312968,\n",
       "       1.30645056, 1.34702342, 1.01161707, 1.51084172, 1.18827351,\n",
       "       1.10961623, 1.25517577, 1.21235135, 1.28844732, 4.64575063,\n",
       "       1.19845269, 1.81166062, 1.37902493, 2.4026388 , 1.19142813,\n",
       "       1.11913913, 2.62127152, 1.01794503, 3.30923622, 1.38352921,\n",
       "       1.20759833, 7.76972416, 1.02432026, 1.33699548, 1.01270352,\n",
       "       1.40235197, 1.0827682 , 1.48892729, 4.77629852, 2.29028699,\n",
       "       1.27143084, 1.63568482, 1.82153587, 1.31358866, 1.3502837 ,\n",
       "       1.06748547, 1.20225519, 1.06321498, 1.67882565, 1.29552341,\n",
       "       1.26870231, 2.37623885, 1.34923943, 1.23387591, 1.13329641,\n",
       "       1.03031396, 1.2414998 , 1.01048033, 1.14738162, 1.32269448,\n",
       "       3.82128758, 1.04737513, 1.56259159, 1.31890927, 1.82032954,\n",
       "       1.06390201, 1.03532069, 1.22573902, 1.88924701, 1.08874097,\n",
       "       1.79087243, 1.14682868, 1.10261302, 1.00675869, 1.22528344,\n",
       "       1.21126644, 1.53722752, 1.02982919, 1.06840067, 1.00670153,\n",
       "       1.04945611, 1.52383617, 1.22855155, 1.16728447, 1.38540712,\n",
       "       7.06663848, 2.04924081, 1.61632723, 2.71070673, 1.01633115,\n",
       "       1.02957023, 1.29256176, 1.18718694, 3.00873973, 1.30814918,\n",
       "       1.3632041 , 2.4574067 , 1.26664579, 2.30596076, 1.12395285,\n",
       "       1.13635581, 1.17235956, 1.37267311, 1.10443915, 1.55953014,\n",
       "       1.06349839, 1.04027918, 2.2569317 , 1.11405436, 1.21513522,\n",
       "       1.40283037, 1.34717367, 1.03209912, 2.28466902, 3.31935837,\n",
       "       1.95009187, 1.14266229, 1.34949948, 1.18015686, 1.38136974,\n",
       "       4.26812636, 1.16094321, 1.55457491, 1.17069456, 1.81187536])"
      ]
     },
     "execution_count": 13,
     "metadata": {},
     "output_type": "execute_result"
    }
   ],
   "source": [
    "x_train"
   ]
  },
  {
   "cell_type": "code",
   "execution_count": 14,
   "id": "9ebe8680",
   "metadata": {},
   "outputs": [
    {
     "data": {
      "image/png": "[encoded data removed]",
      "text/plain": [
       "<Figure size 432x288 with 1 Axes>"
      ]
     },
     "metadata": {
      "needs_background": "light"
     },
     "output_type": "display_data"
    }
   ],
   "source": [
    "hist, bin_edges = np.histogram(x_train, bins=200, density=True)\n",
    "bin_centers = (bin_edges[1:] + bin_edges[:-1]) / 2\n",
    "plt.scatter(bin_centers[hist > 0], hist[hist > 0], s=10)\n",
    "plt.plot(x_space, power_law_pdf(x_space, alpha, x_min), \n",
    "         label='Theoretical PDF', c='tab:orange')\n",
    "plt.legend()\n",
    "plt.xlim(1, 10)\n",
    "plt.show()"
   ]
  },
  {
   "cell_type": "markdown",
   "id": "cc48e216",
   "metadata": {},
   "source": [
    "And here is the same histogram in log-log scale"
   ]
  },
  {
   "cell_type": "code",
   "execution_count": 15,
   "id": "baa771e0",
   "metadata": {},
   "outputs": [
    {
     "data": {
      "image/png": "[encoded data removed]",
      "text/plain": [
       "<Figure size 432x288 with 1 Axes>"
      ]
     },
     "metadata": {
      "needs_background": "light"
     },
     "output_type": "display_data"
    }
   ],
   "source": [
    "hist, bin_edges = np.histogram(x_train, bins=200, density=True)\n",
    "bin_centers = (bin_edges[1:] + bin_edges[:-1]) / 2\n",
    "plt.scatter(bin_centers, hist, s=10)\n",
    "plt.plot(x_space, power_law_pdf(x_space, alpha, x_min), \n",
    "         label='Theoretical PDF', c='tab:orange')\n",
    "plt.legend()\n",
    "plt.xscale('log')\n",
    "plt.yscale('log')\n",
    "plt.xlim(1, 10)\n",
    "plt.show()"
   ]
  },
  {
   "cell_type": "markdown",
   "id": "393e13dd",
   "metadata": {},
   "source": [
    "### Task 3. Estimation of alpha with linear binning (2 points)"
   ]
  },
  {
   "cell_type": "markdown",
   "id": "d11826f5",
   "metadata": {},
   "source": [
    "Given observations from the Power Law distribution, try to estimate $\\alpha$. The easiest way is to draw an empirical PDF with linear binning in log-log scale and apply linear regression. By _linear binning_ we mean to keep a bin width is fixed.\n",
    "\n",
    "Write a function `alpha_lin_bins` that takes a train set, number of linear bins and returns an estimated $\\alpha$.\n",
    "\n",
    "_Hints:_\n",
    "* _Take log in both side of $p(x) = Cx^{-\\alpha}$_\n",
    "* _To calculate an empirical PDF, use `np.histogram(x_train, bins=bins, density=True)`_\n",
    "* _To calculate pseudoinverse matrix, use `np.linalg.pinv`_\n",
    "* _Also you can use fit-predict in `sklearn.linear.LinearRegression`_"
   ]
  },
  {
   "cell_type": "code",
   "execution_count": 16,
   "id": "a71c706c",
   "metadata": {
    "deletable": false,
    "nbgrader": {
     "cell_type": "code",
     "checksum": "98c4c6ef2ed0c2d94c440d3e8e932b7e",
     "grade": false,
     "grade_id": "cell-c57a5c7c5834b80e",
     "locked": false,
     "schema_version": 3,
     "solution": true,
     "task": false
    }
   },
   "outputs": [],
   "source": [
    "def alpha_lin_bins(x_train, bins = 100):\n",
    "    s = 0\n",
    "    x_min = min(x_train)\n",
    "    for x in x_train:\n",
    "        s += (log(x/x_min))\n",
    "    return 1 + len(x_train) / s\n",
    "    raise NotImplementedError()"
   ]
  },
  {
   "cell_type": "code",
   "execution_count": 17,
   "id": "0ce10fac",
   "metadata": {
    "deletable": false,
    "editable": false,
    "nbgrader": {
     "cell_type": "code",
     "checksum": "a19a9fcb480e083446fbee519d1dd98b",
     "grade": true,
     "grade_id": "cell-b9cf21aabb190bd7",
     "locked": true,
     "points": 2,
     "schema_version": 3,
     "solution": false,
     "task": false
    }
   },
   "outputs": [],
   "source": [
    "bins = 100\n",
    "x_train = power_law_generate(1000, x_min=1, alpha=2)\n",
    "assert np.abs(alpha_lin_bins(x_train, bins) - 2) < 0.7\n",
    "x_train = power_law_generate(1000, x_min=1, alpha=3.5)\n",
    "assert np.abs(alpha_lin_bins(x_train, bins) - 3.5) < 0.9\n",
    "x_train = power_law_generate(1000, x_min=1, alpha=10)\n",
    "assert np.abs(alpha_lin_bins(x_train, bins) - 10) < 2"
   ]
  },
  {
   "cell_type": "code",
   "execution_count": 18,
   "id": "b6287095",
   "metadata": {},
   "outputs": [
    {
     "data": {
      "image/png": "[encoded data removed]",
      "text/plain": [
       "<Figure size 432x288 with 1 Axes>"
      ]
     },
     "metadata": {
      "needs_background": "light"
     },
     "output_type": "display_data"
    }
   ],
   "source": [
    "x_min = 1\n",
    "alpha = 3.5\n",
    "bins = 100\n",
    "\n",
    "x_train = power_law_generate(1000, alpha, x_min)\n",
    "hist, bin_edges = np.histogram(x_train, bins=bins, density=True)\n",
    "bin_centers = (bin_edges[1:] + bin_edges[:-1]) / 2\n",
    "plt.scatter(bin_centers, hist, s=10)\n",
    "\n",
    "hat_alpha = alpha_lin_bins(x_train, bins)\n",
    "x_space = np.linspace(x_min, x_train.max(), 100)\n",
    "plt.plot(x_space, power_law_pdf(x_space, hat_alpha, x_min), \n",
    "         label='Estimated PDF', c='tab:orange')\n",
    "plt.legend()\n",
    "plt.title('Truth alpha = {:.2f}, estimated alpha = {:.2f}'.format(alpha, hat_alpha))\n",
    "plt.xscale('log')\n",
    "plt.yscale('log')\n",
    "plt.show()"
   ]
  },
  {
   "cell_type": "markdown",
   "id": "f7186825",
   "metadata": {},
   "source": [
    "### Task 4. Generation graphs with a given degree distribution (2 points)"
   ]
  },
  {
   "cell_type": "markdown",
   "id": "b442e632",
   "metadata": {},
   "source": [
    "In this task, we will try to guess a graph by its degree distribution.\n",
    "\n",
    "__Graph A__ is described by the histogram `[0, 2, 10]` — 0 nodes with degree 0, 2 nodes with degree 1, 10 nodes with degree 2."
   ]
  },
  {
   "cell_type": "code",
   "execution_count": 19,
   "id": "67fdb84f",
   "metadata": {},
   "outputs": [
    {
     "data": {
      "image/png": "[encoded data removed]",
      "text/plain": [
       "<Figure size 432x288 with 1 Axes>"
      ]
     },
     "metadata": {
      "needs_background": "light"
     },
     "output_type": "display_data"
    }
   ],
   "source": [
    "dens_a = [0, 2, 10]\n",
    "plt.bar(range(len(dens_a)), dens_a);"
   ]
  },
  {
   "cell_type": "code",
   "execution_count": 20,
   "id": "cfc43463",
   "metadata": {
    "deletable": false,
    "nbgrader": {
     "cell_type": "code",
     "checksum": "7726ebdf8814362b9595c84fe0221e09",
     "grade": false,
     "grade_id": "cell-4308485bfb1bf30e",
     "locked": false,
     "schema_version": 3,
     "solution": true,
     "task": false
    }
   },
   "outputs": [],
   "source": [
    "def generate_graph_a() -> nx.Graph:\n",
    "    return nx.Graph([[0, 1], [1, 2], [2, 3], [3, 4], [4, 5], [5, 6], [6,7], [7,8], [8,9], [9,10], [10,11]])\n",
    "    raise NotImplementedError()"
   ]
  },
  {
   "cell_type": "code",
   "execution_count": 21,
   "id": "97e1cb1e",
   "metadata": {
    "deletable": false,
    "editable": false,
    "nbgrader": {
     "cell_type": "code",
     "checksum": "1f824c1a20c44b478ac30ce41ad43f35",
     "grade": true,
     "grade_id": "cell-226da2d721eaace4",
     "locked": true,
     "points": 0.5,
     "schema_version": 3,
     "solution": false,
     "task": false
    }
   },
   "outputs": [
    {
     "data": {
      "image/png": "[encoded data removed]",
      "text/plain": [
       "<Figure size 432x288 with 1 Axes>"
      ]
     },
     "metadata": {},
     "output_type": "display_data"
    }
   ],
   "source": [
    "G = generate_graph_a()\n",
    "assert nx.degree_histogram(G) == dens_a\n",
    "assert nx.is_connected(G)\n",
    "nx.draw_networkx(G)"
   ]
  },
  {
   "cell_type": "markdown",
   "id": "d8e012b6",
   "metadata": {},
   "source": [
    "__Graph B__"
   ]
  },
  {
   "cell_type": "code",
   "execution_count": 22,
   "id": "0547ce55",
   "metadata": {},
   "outputs": [
    {
     "data": {
      "image/png": "[encoded data removed]",
      "text/plain": [
       "<Figure size 432x288 with 1 Axes>"
      ]
     },
     "metadata": {
      "needs_background": "light"
     },
     "output_type": "display_data"
    }
   ],
   "source": [
    "dens_b = [0, 0, 10]\n",
    "plt.bar(range(len(dens_b)), dens_b);"
   ]
  },
  {
   "cell_type": "code",
   "execution_count": 23,
   "id": "8c096c21",
   "metadata": {
    "deletable": false,
    "nbgrader": {
     "cell_type": "code",
     "checksum": "41e7af615198bd34567381ea1b34f56c",
     "grade": false,
     "grade_id": "cell-55d7cfacd5c8d553",
     "locked": false,
     "schema_version": 3,
     "solution": true,
     "task": false
    }
   },
   "outputs": [],
   "source": [
    "def generate_graph_b() -> nx.Graph:\n",
    "    return nx.Graph([[0, 1], [1, 2], [2, 3], [3, 4], [4, 5], [5, 6], [6,7], [7,8], [8,9], [9,0]])\n",
    "    raise NotImplementedError()"
   ]
  },
  {
   "cell_type": "code",
   "execution_count": 24,
   "id": "d0e7e12f",
   "metadata": {
    "deletable": false,
    "editable": false,
    "nbgrader": {
     "cell_type": "code",
     "checksum": "04074a13ca0dda242e4a7df044440fd7",
     "grade": true,
     "grade_id": "cell-11bb8205ad27326a",
     "locked": true,
     "points": 0.5,
     "schema_version": 3,
     "solution": false,
     "task": false
    }
   },
   "outputs": [
    {
     "data": {
      "image/png": "[encoded data removed]",
      "text/plain": [
       "<Figure size 432x288 with 1 Axes>"
      ]
     },
     "metadata": {},
     "output_type": "display_data"
    }
   ],
   "source": [
    "G = generate_graph_b()\n",
    "assert nx.degree_histogram(G) == dens_b\n",
    "assert nx.is_connected(G)\n",
    "nx.draw_networkx(G)"
   ]
  },
  {
   "cell_type": "markdown",
   "id": "01b95eeb",
   "metadata": {},
   "source": [
    "__Graph C__"
   ]
  },
  {
   "cell_type": "code",
   "execution_count": 25,
   "id": "d39fbc7f",
   "metadata": {},
   "outputs": [
    {
     "data": {
      "image/png": "[encoded data removed]",
      "text/plain": [
       "<Figure size 432x288 with 1 Axes>"
      ]
     },
     "metadata": {
      "needs_background": "light"
     },
     "output_type": "display_data"
    }
   ],
   "source": [
    "dens_c = [0, 0, 0, 0, 5]\n",
    "plt.bar(range(len(dens_c)), dens_c);"
   ]
  },
  {
   "cell_type": "code",
   "execution_count": 26,
   "id": "4e708647",
   "metadata": {
    "deletable": false,
    "nbgrader": {
     "cell_type": "code",
     "checksum": "dac931bc16a78ae011fdaab8f99a54ca",
     "grade": false,
     "grade_id": "cell-6ad0ea3f81976162",
     "locked": false,
     "schema_version": 3,
     "solution": true,
     "task": false
    }
   },
   "outputs": [],
   "source": [
    "def generate_graph_c() -> nx.Graph:\n",
    "    return nx.complete_graph(5)\n",
    "    raise NotImplementedError()"
   ]
  },
  {
   "cell_type": "code",
   "execution_count": 27,
   "id": "3643c6fe",
   "metadata": {
    "deletable": false,
    "editable": false,
    "nbgrader": {
     "cell_type": "code",
     "checksum": "ae570e373a3db27d589d3d863da0f81e",
     "grade": true,
     "grade_id": "cell-508d2e23c067c4d2",
     "locked": true,
     "points": 0.5,
     "schema_version": 3,
     "solution": false,
     "task": false
    }
   },
   "outputs": [
    {
     "data": {
      "image/png": "[encoded data removed]",
      "text/plain": [
       "<Figure size 432x288 with 1 Axes>"
      ]
     },
     "metadata": {},
     "output_type": "display_data"
    }
   ],
   "source": [
    "G = generate_graph_c()\n",
    "assert nx.degree_histogram(G) == dens_c\n",
    "assert nx.is_connected(G)\n",
    "nx.draw_networkx(G)"
   ]
  },
  {
   "cell_type": "markdown",
   "id": "fcf0490c",
   "metadata": {},
   "source": [
    "__Graph D__"
   ]
  },
  {
   "cell_type": "code",
   "execution_count": 28,
   "id": "ba7e938a",
   "metadata": {},
   "outputs": [
    {
     "data": {
      "image/png": "[encoded data removed]",
      "text/plain": [
       "<Figure size 432x288 with 1 Axes>"
      ]
     },
     "metadata": {
      "needs_background": "light"
     },
     "output_type": "display_data"
    }
   ],
   "source": [
    "dens_d = [0, 5, 0, 0, 0, 1]\n",
    "plt.bar(range(len(dens_d)), dens_d);"
   ]
  },
  {
   "cell_type": "code",
   "execution_count": 29,
   "id": "c0e7f51a",
   "metadata": {
    "deletable": false,
    "nbgrader": {
     "cell_type": "code",
     "checksum": "f1ab3b74f2b7a677c3844675c785ef5a",
     "grade": false,
     "grade_id": "cell-2a6c0c0fe4dda491",
     "locked": false,
     "schema_version": 3,
     "solution": true,
     "task": false
    }
   },
   "outputs": [],
   "source": [
    "def generate_graph_d() -> nx.Graph:\n",
    "    return nx.star_graph(5)\n",
    "    raise NotImplementedError()"
   ]
  },
  {
   "cell_type": "code",
   "execution_count": 30,
   "id": "fc67ff35",
   "metadata": {
    "deletable": false,
    "editable": false,
    "nbgrader": {
     "cell_type": "code",
     "checksum": "c464ac5cf72aa9486f49d10f0029e4eb",
     "grade": true,
     "grade_id": "cell-c9c34144467f9031",
     "locked": true,
     "points": 0.5,
     "schema_version": 3,
     "solution": false,
     "task": false
    }
   },
   "outputs": [
    {
     "data": {
      "image/png": "[encoded data removed]",
      "text/plain": [
       "<Figure size 432x288 with 1 Axes>"
      ]
     },
     "metadata": {},
     "output_type": "display_data"
    }
   ],
   "source": [
    "G = generate_graph_d()\n",
    "assert nx.degree_histogram(G) == dens_d\n",
    "assert nx.is_connected(G)\n",
    "nx.draw_networkx(G)"
   ]
  },
  {
   "cell_type": "markdown",
   "id": "8b875e52",
   "metadata": {},
   "source": [
    "### Task 5. MLE of alpha in Power Law (2 points)"
   ]
  },
  {
   "cell_type": "markdown",
   "id": "e064e2f3",
   "metadata": {},
   "source": [
    "Let us estimate $\\alpha$ and $x_\\min$ of a real social network using maximum likelihood. Here is a real degree distribution of the network of emails between members of the research institution with 1005 nodes."
   ]
  },
  {
   "cell_type": "code",
   "execution_count": 31,
   "id": "3430afee",
   "metadata": {},
   "outputs": [],
   "source": [
    "url = 'https://raw.githubusercontent.com/network-science-course/network-science-course/main/datasets/email_degree_sequence.txt'\n",
    "open('email_degree_sequence.txt', 'wb').write(requests.get(url).content);\n"
   ]
  },
  {
   "cell_type": "code",
   "execution_count": 32,
   "id": "a9cc7d84",
   "metadata": {},
   "outputs": [
    {
     "data": {
      "image/png": "[encoded data removed]",
      "text/plain": [
       "<Figure size 432x288 with 1 Axes>"
      ]
     },
     "metadata": {
      "needs_background": "light"
     },
     "output_type": "display_data"
    }
   ],
   "source": [
    "degree_sequence = np.loadtxt('email_degree_sequence.txt')\n",
    "hist, bin_edges = np.histogram(degree_sequence, bins=1000, density=True)\n",
    "bin_centers = (bin_edges[1:] + bin_edges[:-1]) / 2\n",
    "plt.scatter(bin_centers[hist > 0], hist[hist > 0], s=5)\n",
    "plt.title('Email network degree distribution')\n",
    "plt.xscale('log')\n",
    "plt.yscale('log')"
   ]
  },
  {
   "cell_type": "markdown",
   "id": "1672308b",
   "metadata": {},
   "source": [
    "The MLE consists of:\n",
    "1. Fix $x_\\min$ as a minimal node degree (drop node degrees that less than $x_\\min$)\n",
    "2. Calculate $\\alpha$ via maximum likelihood estimation using fixed $x_\\min$\n",
    "$$\\alpha = 1 + n \\left[\\sum_i \\log \\frac{x_i}{x_\\min} \\right]^{-1}$$\n",
    "3. Calculate Kolmogorov-Smirnov test\n",
    "4. Fix $x_\\min$ as the next node degree\n",
    "5. Repeat 2-4 by scanning all possible $x_\\min$ and find the best $\\alpha$ and $x_\\min$ with respect to Kolmogorov-Smirnov test\n",
    "\n",
    "Write a function `ml_power_law_params` that takes a node degree sequence `degree_sequence` and returns a tuple of two values: the best $\\alpha$ and $x_\\min$.\n",
    "\n",
    "_Hints:_\n",
    "* _To calculate Kolmogorov-Smirnov distance use `scipy.stats.kstest` with a parameter `cdf=power_law_cdf`_"
   ]
  },
  {
   "cell_type": "code",
   "execution_count": 489,
   "id": "3ecae6a5",
   "metadata": {},
   "outputs": [],
   "source": [
    "def find_alpha(x_train, x_min):\n",
    "    s = 0\n",
    "    a = max(1, x_min)\n",
    "    x_train = x_train[x_train >= a]\n",
    "    for x in x_train:\n",
    "        s += log(x / x_min)\n",
    "    \n",
    "    return 1 + len(x_train) / s\n",
    "    raise NotImplementedError()"
   ]
  },
  {
   "cell_type": "code",
   "execution_count": 490,
   "id": "970c6d13",
   "metadata": {
    "deletable": false,
    "nbgrader": {
     "cell_type": "code",
     "checksum": "8bc64f253c03d807aade17cb9dee113b",
     "grade": false,
     "grade_id": "cell-c0da4153dae3178a",
     "locked": false,
     "schema_version": 3,
     "solution": true,
     "task": false
    }
   },
   "outputs": [],
   "source": [
    "def mle_power_law_params(degree_sequence):\n",
    "    result = [0, 0]\n",
    "    kst = 1\n",
    "    \n",
    "    for x_min in range(1 , int(degree_sequence.max())):\n",
    "        res = degree_sequence[degree_sequence >= x_min]\n",
    "        alpha = find_alpha(res, x_min)\n",
    "        kst_current = kstest(res, cdf = lambda x: power_law_cdf(x, alpha, x_min))\n",
    "\n",
    "        if kst_current[0] < kst:\n",
    "            kst = kst_current[0]\n",
    "            result[0] = alpha\n",
    "            result[1] = x_min\n",
    "            \n",
    "    return result\n",
    "    raise NotImplementedError()"
   ]
  },
  {
   "cell_type": "code",
   "execution_count": 491,
   "id": "950ee47d",
   "metadata": {
    "deletable": false,
    "editable": false,
    "nbgrader": {
     "cell_type": "code",
     "checksum": "0429967c2ea55efbadc6b45066f153ae",
     "grade": true,
     "grade_id": "cell-213992ed205e9591",
     "locked": true,
     "points": 2,
     "schema_version": 3,
     "solution": false,
     "task": false
    }
   },
   "outputs": [],
   "source": [
    "alpha, x_min = 3.5, 3\n",
    "hat_alpha, hat_x_min = mle_power_law_params(power_law_generate(1000, alpha, x_min))\n",
    "assert np.abs(hat_alpha - alpha) < 0.05\n",
    "assert np.abs(hat_x_min - x_min) < 0.001\n",
    "\n",
    "alpha, x_min = 7, 1\n",
    "hat_alpha, hat_x_min = mle_power_law_params(power_law_generate(1000, alpha, x_min))\n",
    "assert np.abs(hat_alpha - alpha) < 0.1\n",
    "assert np.abs(hat_x_min - x_min) < 0.0001\n",
    "\n",
    "hat_alpha, hat_x_min = mle_power_law_params(degree_sequence)\n",
    "assert np.abs(hat_alpha - 2.9) < 0.1\n",
    "assert np.abs(hat_x_min - 42) < 1"
   ]
  },
  {
   "cell_type": "code",
   "execution_count": 492,
   "id": "a00a42a1",
   "metadata": {},
   "outputs": [
    {
     "data": {
      "image/png": "[encoded data removed]",
      "text/plain": [
       "<Figure size 432x288 with 1 Axes>"
      ]
     },
     "metadata": {
      "needs_background": "light"
     },
     "output_type": "display_data"
    }
   ],
   "source": [
    "hist, bin_edges = np.histogram(degree_sequence, bins=1000, density=True)\n",
    "bin_centers = (bin_edges[1:] + bin_edges[:-1]) / 2\n",
    "plt.scatter(bin_centers[hist > 0], hist[hist > 0], s=5)\n",
    "plt.title('Email network degree distribution')\n",
    "\n",
    "hat_alpha, hat_x_min = mle_power_law_params(degree_sequence)\n",
    "x_space = np.linspace(hat_x_min, degree_sequence.max(), 100)\n",
    "plt.plot(x_space, power_law_pdf(x_space, hat_alpha, hat_x_min), \n",
    "         label='Estimated PDF', c='tab:orange')\n",
    "plt.xscale('log')\n",
    "plt.yscale('log')\n",
    "plt.ylim(0.001, 0.5);"
   ]
  },
  {
   "cell_type": "markdown",
   "id": "5a525068",
   "metadata": {},
   "source": [
    "### Task 6. QQ Plot (2 points)"
   ]
  },
  {
   "cell_type": "markdown",
   "id": "f9199f6e",
   "metadata": {},
   "source": [
    "It might be useful to draw a quantile-quantile plot (QQ plot) to compare empirical and theoretical distributions by the eye. Your task here is to generate Power Law observations by given parameters and compare theoretical and empirical quantiles.\n",
    "\n",
    "Write a function `qqplot_data` that takes $\\alpha$, $x_\\min$, number of observations $n$ that will be generated and returns a tuple with two np.arrays: theoretical quantiles and empirical quantiles. Let quantiles be calculated for probabilities 0, 0.01, 0.02, ..., 0.99.\n",
    "\n",
    "_Hint: to calculate an empirical quantile, use `np.quantile`_"
   ]
  },
  {
   "cell_type": "code",
   "execution_count": 493,
   "id": "58b46d1f",
   "metadata": {
    "deletable": false,
    "nbgrader": {
     "cell_type": "code",
     "checksum": "8eec986886f46027e0d0884381921de0",
     "grade": false,
     "grade_id": "cell-7536b41d94152420",
     "locked": false,
     "schema_version": 3,
     "solution": true,
     "task": false
    }
   },
   "outputs": [],
   "source": [
    "def qqplot_data(alpha, x_min, n):\n",
    "    return [power_law_ppf(np.linspace(0, 0.99, 100), alpha, x_min), np.quantile(power_law_generate(n, alpha, x_min), np.linspace(0, 0.99, 100))]\n",
    "    raise NotImplementedError()"
   ]
  },
  {
   "cell_type": "code",
   "execution_count": 494,
   "id": "78f86b3d",
   "metadata": {
    "deletable": false,
    "editable": false,
    "nbgrader": {
     "cell_type": "code",
     "checksum": "4be6b71ef9a8571adaea471ab20aad2e",
     "grade": true,
     "grade_id": "cell-cee74bedb007dbfa",
     "locked": true,
     "points": 2,
     "schema_version": 3,
     "solution": false,
     "task": false
    }
   },
   "outputs": [],
   "source": [
    "x_min = 1\n",
    "alpha = 3.5\n",
    "\n",
    "theor100, empir100 = qqplot_data(alpha, x_min, 100)\n",
    "theor200, empir200 = qqplot_data(alpha, x_min, 200)\n",
    "theor1000, empir1000 = qqplot_data(alpha, x_min, 1000)\n",
    "assert np.linalg.norm(theor1000 - empir1000) < np.linalg.norm(theor200 - empir200)\n",
    "assert np.linalg.norm(theor200 - empir200) < np.linalg.norm(theor100 - empir100)"
   ]
  },
  {
   "cell_type": "code",
   "execution_count": 495,
   "id": "fa7adda8",
   "metadata": {},
   "outputs": [
    {
     "data": {
      "image/png": "[encoded data removed]",
      "text/plain": [
       "<Figure size 864x216 with 3 Axes>"
      ]
     },
     "metadata": {
      "needs_background": "light"
     },
     "output_type": "display_data"
    }
   ],
   "source": [
    "plt.figure(figsize=(12, 3))\n",
    "\n",
    "plt.subplots_adjust(wspace=0.3)\n",
    "\n",
    "plt.subplot(1, 3, 1)\n",
    "plt.scatter(theor100, empir100, s=10)\n",
    "plt.plot([1, 7], [1, 7], '--', c='tab:orange')\n",
    "plt.title('QQ plot, N = 100')\n",
    "plt.xlabel('Theoretical distribution')\n",
    "plt.ylabel('Empirical distribution')\n",
    "plt.axis('square')\n",
    "\n",
    "plt.subplot(1, 3, 2)\n",
    "plt.scatter(theor200, empir200, s=10)\n",
    "plt.plot([1, 7], [1, 7], '--', c='tab:orange')\n",
    "plt.title('QQ plot, N = 200')\n",
    "plt.xlabel('Theoretical distribution')\n",
    "plt.ylabel('Empirical distribution')\n",
    "plt.axis('square')\n",
    "\n",
    "plt.subplot(1, 3, 3)\n",
    "plt.scatter(theor1000, empir1000, s=10)\n",
    "plt.plot([1, 7], [1, 7], '--', c='tab:orange')\n",
    "plt.title('QQ plot, N = 1000')\n",
    "plt.xlabel('Theoretical distribution')\n",
    "plt.ylabel('Empirical distribution')\n",
    "plt.axis('square');"
   ]
  }
 ],
 "metadata": {
  "kernelspec": {
   "display_name": "p3.7",
   "language": "python",
   "name": "p3.7"
  },
  "language_info": {
   "codemirror_mode": {
    "name": "ipython",
    "version": 3
   },
   "file_extension": ".py",
   "mimetype": "text/x-python",
   "name": "python",
   "nbconvert_exporter": "python",
   "pygments_lexer": "ipython3",
   "version": "3.7.11"
  }
 },
 "nbformat": 4,
 "nbformat_minor": 5
}
